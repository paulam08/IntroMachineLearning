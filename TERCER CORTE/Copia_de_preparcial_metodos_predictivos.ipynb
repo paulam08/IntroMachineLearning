{
  "cells": [
    {
      "cell_type": "markdown",
      "id": "0b418101",
      "metadata": {
        "id": "0b418101"
      },
      "source": [
        "# 🧪 Pre‑Parcial – Métodos Predictivos\n",
        "**Supervisado vs. No Supervisado**\n",
        "\n",
        "> Completa las celdas con `TODO` y ejecuta *Runtime → Run all* antes de entregar.\n"
      ]
    },
    {
      "cell_type": "markdown",
      "id": "5b235da4",
      "metadata": {
        "id": "5b235da4"
      },
      "source": [
        "### Contenido\n",
        "1. [Parte A – Teoría](#parte-a)\n",
        "2. [Parte B – Práctica](#parte-b)\n"
      ]
    },
    {
      "cell_type": "markdown",
      "id": "6bf1ec3f",
      "metadata": {
        "id": "6bf1ec3f"
      },
      "source": [
        "## <a id='parte-a'></a>📝 Parte A — Cuestionario Teórico (40 pts)\n",
        "Responde **brevemente** en las celdas Markdown que siguen a cada pregunta.\n"
      ]
    },
    {
      "cell_type": "markdown",
      "id": "29324086",
      "metadata": {
        "id": "29324086"
      },
      "source": [
        "#### 1️⃣ **Variable objetivo (y)** – Defínela y da un ejemplo en este dataset.\n",
        "\n",
        "*Respuesta:* Una variable objetivo, también conocida como variable dependiente o variable de respuesta, es la variable que un modelo predictivo intenta predecir o explicar basándose en otras variables (variables predictoras o independientes).\n",
        "\n",
        "En el contexto de este dataset (aunque no se muestra el dataset en el código proporcionado, asumiremos un dataset típico para métodos predictivos supervisados), un ejemplo de variable objetivo podría ser:\n",
        "\n",
        "- **Si el dataset contiene información sobre clientes y su comportamiento de compra, la variable objetivo podría ser `CompróProducto`**, una variable binaria (Sí/No) que indica si un cliente realizó una compra o no. El objetivo del modelo sería predecir si un nuevo cliente comprará un producto basándose en sus características demográficas o comportamiento previo.\n"
      ]
    },
    {
      "cell_type": "markdown",
      "id": "00e18666",
      "metadata": {
        "id": "00e18666"
      },
      "source": [
        "#### 2️⃣ Ordena las fases del *pipeline* de ML: `Modelado`, `Pre‑procesamiento`, `EDA`, `Evaluación`, `Insight de negocio`.\n",
        "\n",
        "*Respuesta:* EDA (Análisis Exploratorio de Datos), Pre‑procesamiento, Modelado, Evaluación, Insight de negocio\n"
      ]
    },
    {
      "cell_type": "markdown",
      "id": "910a8986",
      "metadata": {
        "id": "910a8986"
      },
      "source": [
        "#### 3️⃣ Para un problema de **clases desbalanceadas**, ¿qué métrica priorizarías y por qué?\n",
        "\n",
        "*Respuesta:* Precisión (Precision) o Recall (Sensibilidad), o una métrica combinada como el F1-Score, dependiendo del costo de los falsos positivos y falsos negativos para el problema específico.\n",
        "\n",
        "En problemas de clases desbalanceadas, el Accuracy (Exactitud) puede ser engañoso porque un modelo que predice la clase mayoritaria todo el tiempo puede tener un Accuracy alto sin ser útil.\n",
        "\n",
        "- **Precision:** Prioriza minimizar los falsos positivos. Útil cuando el costo de una predicción positiva incorrecta es alto (ej. diagnosticar erróneamente a alguien con una enfermedad grave).\n",
        "- **Recall:** Prioriza minimizar los falsos negativos. Útil cuando el costo de una predicción negativa incorrecta es alto (ej. no detectar una enfermedad en alguien que sí la tiene).\n",
        "- **F1-Score:** Es la media armónica de Precision y Recall. Proporciona un balance entre ambas métricas y es una buena opción general para problemas de desbalance.\n",
        "\n",
        "La elección exacta dependerá del contexto del negocio y de cuál tipo de error (falso positivo o falso negativo) es más costoso de asumir.\n"
      ]
    },
    {
      "cell_type": "markdown",
      "id": "4de30673",
      "metadata": {
        "id": "4de30673"
      },
      "source": [
        "#### 4️⃣ Describe **overfitting** y cómo lo detectarías en la práctica.\n",
        "\n",
        "*Respuesta:* **Overfitting (Sobreajuste)** ocurre cuando un modelo de machine learning aprende los datos de entrenamiento \"demasiado bien\", incluyendo el ruido y las peculiaridades específicas de ese conjunto de datos en particular, en lugar de capturar los patrones subyacentes generales. Como resultado, el modelo funciona excelentemente en los datos de entrenamiento pero generaliza mal a datos nuevos e invisibles (datos de prueba). Esencialmente, el modelo se ha memorizado el conjunto de entrenamiento en lugar de aprender la relación entre las variables.\n",
        "\n",
        "**Cómo detectarlo en la práctica:**\n",
        "\n",
        "La forma más común y efectiva de detectar el overfitting es comparar el rendimiento del modelo en el conjunto de datos de entrenamiento y en un conjunto de datos de validación (o prueba) completamente separado e independiente.\n",
        "\n",
        "1.  **Dividir los Datos:** Siempre divide tu dataset en al menos dos partes: un conjunto de entrenamiento (para entrenar el modelo) y un conjunto de prueba (para evaluar el rendimiento del modelo en datos no vistos). Una práctica común es usar un conjunto de validación adicional durante el entrenamiento para ajustar hiperparámetros y monitorear el overfitting sin \"contaminar\" el conjunto de prueba final.\n",
        "2.  **Entrenar y Evaluar:** Entrena tu modelo en el conjunto de entrenamiento y luego evalúa su rendimiento utilizando una métrica apropiada (por ejemplo, Accuracy, F1-Score, MSE, etc.) tanto en el conjunto de entrenamiento como en el conjunto de validación/prueba.\n",
        "3.  **Comparar Rendimientos:**\n",
        "    *   **Overfitting:** Si el rendimiento del modelo en el conjunto de entrenamiento es significativamente **mucho mejor** que su rendimiento en el conjunto de validación/prueba, es una clara señal de overfitting. El modelo ha aprendido bien los datos de entrenamiento pero falla al generalizar a datos nuevos.\n",
        "    *   **Underfitting:** Si el rendimiento es bajo tanto en el conjunto de entrenamiento como en el de validación/prueba, el modelo probablemente tiene **underfitting** (subajuste), lo que significa que no es lo suficientemente complejo para capturar los patrones en los datos.\n",
        "    *   **Buen Ajuste:** Si el rendimiento es bueno y similar tanto en el conjunto de entrenamiento como en el de validación/prueba, el modelo está generalizando bien.\n",
        "4.  **Curvas de Aprendizaje:** Graficar las \"curvas de aprendizaje\" (learning curves) es otra forma visual de detectar el overfitting. Estas curvas muestran el rendimiento del modelo (por ejemplo, error o Accuracy) en los conjuntos de entrenamiento y validación en función del tamaño del conjunto de entrenamiento o del número de iteraciones/épocas de entrenamiento. Con el overfitting, la curva de error de entrenamiento disminuirá continuamente, mientras que la curva de error de validación dejará de disminuir en cierto punto e incluso podría comenzar a aumentar.\n",
        "5.  **Validación Cruzada (Cross-Validation):** Especialmente útil con conjuntos de datos pequeños, la validación cruzada k-fold divide el conjunto de datos en k pliegues. El modelo se entrena k veces, cada vez utilizando un pliegue diferente como conjunto de validación y los k-1 pliegues restantes para el entrenamiento. Comparar las puntuaciones de rendimiento promedio a través de los diferentes pliegues de validación puede ayudar a evaluar la estabilidad del modelo y detectar el overfitting. Si las puntuaciones varían mucho entre los pliegues o si el rendimiento promedio de validación es significativamente menor que el rendimiento promedio de entrenamiento (si se mide también), puede indicar overfitting.\n",
        "\n",
        "En resumen, la clave para detectar el overfitting es evaluar el modelo en datos que nunca ha visto durante el entrenamiento y comparar ese rendimiento con su rendimiento en los dat\n"
      ]
    },
    {
      "cell_type": "markdown",
      "source": [],
      "metadata": {
        "id": "sQV2UKP4y2KZ"
      },
      "id": "sQV2UKP4y2KZ"
    },
    {
      "cell_type": "markdown",
      "id": "e3fbcf52",
      "metadata": {
        "id": "e3fbcf52"
      },
      "source": [
        "#### 5️⃣ Completa: *K‑means es un algoritmo de _________ porque ________.*\n",
        "\n",
        "*Respuesta:*\n",
        "No Supervisado porque agrupa datos sin etiquetas previas basándose en la similitud de sus características.\n"
      ]
    },
    {
      "cell_type": "markdown",
      "source": [
        "7️⃣ En regresión, ¿cómo es la variable objetivo? (cualitativa, cuantitativa, binaria…)."
      ],
      "metadata": {
        "id": "dLy8Dfyw1USv"
      },
      "id": "dLy8Dfyw1USv"
    },
    {
      "cell_type": "markdown",
      "id": "033b889a",
      "metadata": {
        "id": "033b889a"
      },
      "source": [
        "\n",
        "*Respuesta:* En regresión, la variable objetivo es **cuantitativa** (numérica).\n",
        "Un modelo de regresión busca predecir un valor continuo o numérico, como el precio de una casa, la temperatura o el salario.\n",
        "Por ejemplo, en el contexto de predecir el precio de una casa (`PrecioCasa`), esta sería una variable objetivo cuantitativa que podría tomar cualquier valor dentro de un rango.\n"
      ]
    },
    {
      "cell_type": "markdown",
      "id": "aea04580",
      "metadata": {
        "id": "aea04580"
      },
      "source": [
        "#### 8️⃣ Menciona 2 técnicas comunes de **pre‑procesamiento de texto**.\n",
        "\n",
        "*Respuesta:* 1.  **Tokenización:** Consiste en dividir el texto en unidades más pequeñas llamadas \"tokens\", que suelen ser palabras o sub-palabras. Por ejemplo, la frase \"El perro corre rápido\" se tokenizaría en [\"El\", \"perro\", \"corre\", \"rápido\"]. Es un paso fundamental para analizar texto.\n",
        "2.  **Normalización:** Proceso para transformar el texto a una forma estándar para reducir la variabilidad. Incluye técnicas como:\n",
        "    *   **Convertir a minúsculas:** Transformar todo el texto a minúsculas para que \"Casa\" y \"casa\" sean tratadas como la misma palabra.\n",
        "    *   **Eliminar puntuación y caracteres especiales:** Remover signos de puntuación (., !, ?, etc.) y otros caracteres no alfanuméricos.\n",
        "    *   **Eliminar stopwords:** Remover palabras comunes que no aportan mucho significado (ej. \"el\", \"la\", \"un\", \"y\", \"de\").\n",
        "    *   **Stemming o Lematización:** Reducir las palabras a su raíz o forma base. Stemming (ej. \"corriendo\", \"corre\", \"corrió\" -> \"corr\") es más simple y rápido, mientras que la lematización (ej. \"mejor\", \"mejores\" -> \"bueno\") es más sofisticada y considera el contexto para obtener la forma base correcta (lema).\n"
      ]
    },
    {
      "cell_type": "markdown",
      "id": "7dc106a4",
      "metadata": {
        "id": "7dc106a4"
      },
      "source": [
        "#### 9️⃣ ¿Qué representa el parámetro *k* en K‑means y qué ocurre si es muy grande?\n",
        "\n",
        "*Respuesta:* En K-means, el parámetro **k** representa el **número de clústeres** en los que el algoritmo intentará agrupar los datos. Es un hiperparámetro que debes especificar antes de ejecutar el algoritmo.\n",
        "\n",
        "Si el valor de *k* es **muy grande** (mucho mayor que el número real de agrupaciones naturales en los datos):\n",
        "\n",
        "1.  **Sobre-segmentación:** El algoritmo dividirá clústeres naturales en sub-clústeres más pequeños, incluso si no hay una separación clara entre ellos. Cada clúster resultante contendrá muy pocos puntos.\n",
        "2.  **Sensibilidad al ruido:** El modelo se volverá muy sensible al ruido o a los *outliers* en los datos, pudiendo formar clústeres separados alrededor de puntos individuales o pequeños grupos atípicos.\n",
        "3.  **Pérdida de significado:** Los clústeres resultantes pueden perder su significado o interpretabilidad, ya que no representarán agrupaciones coherentes de puntos similares.\n",
        "4.  **Mayor tiempo de cómputo:** Aunque no siempre es drástico, un *k* muy grande puede aumentar el tiempo de ejecución del algoritmo.\n",
        "5.  **Resultados menos robustos:** Las asignaciones de puntos a clústeres y las posiciones de los centroides pueden volverse menos estables entre diferentes ejecuciones, especialmente si los datos no tienen una estructura de clústeres bien definida.\n",
        "\n",
        "En resumen, un *k* muy grande lleva a una granularidad excesiva en la agrupación, donde el modelo intenta imponer muchas estructuras pequeñas donde quizás no existan, diluyendo así la utilidad de los clústeres para descubrir patrones significativos en los datos.\n"
      ]
    },
    {
      "cell_type": "markdown",
      "id": "86dcdc0c",
      "metadata": {
        "id": "86dcdc0c"
      },
      "source": [
        "#### 🔟 Define brevemente un **embedding** en NLP y su utilidad.\n",
        "\n",
        "*Respuesta:*  Un **embedding** en Procesamiento del Lenguaje Natural (NLP) es una representación numérica (un vector de números reales) de una palabra, frase o documento en un espacio vectorial de baja dimensión.\n",
        "Su **utilidad** principal es capturar las relaciones semánticas y sintácticas entre las palabras. Palabras con significados similares o que aparecen en contextos parecidos tienden a tener vectores de embedding cercanos en el espacio vectorial. Esto permite a los algoritmos de machine learning (que trabajan con números) comprender el significado y el contexto del texto, mejorando significativamente el rendimiento en tareas como clasificación de texto, traducción automática, análisis de sentimiento, etc."
      ]
    },
    {
      "cell_type": "markdown",
      "id": "2801cc8c",
      "metadata": {
        "id": "2801cc8c"
      },
      "source": [
        "## <a id='parte-b'></a>💻 Parte B — Práctica (60 pts)\n",
        "Trabajarás con la tabla de reseñas de Amazon que contiene, entre otras, las columnas `reviewerID`, `asin`, `helpful`, `reviewText`, `overall`, `summary`, `unixReviewTime`, `day_diff`.\n",
        "\n",
        "> **Objetivos**\n",
        "> 1. Clasificar reseñas positivas (rating ≥ 4) vs negativas.\n",
        "> 2. Agrupar reseñas con K‑means y perfilar clusters.\n"
      ]
    },
    {
      "cell_type": "markdown",
      "source": [
        "Columnas de la tabla\n",
        "📄 Reviewer ID: Unique identifier for the reviewer.\n",
        "\n",
        "📦 ASIN: Amazon Standard Identification Number for the product.\n",
        "\n",
        "👤 Reviewer Name: Name of the reviewer.\n",
        "\n",
        "👍 Helpful: Number of helpful votes the review received.\n",
        "\n",
        "📝 Review Text: The content of the review written by the customer.\n",
        "\n",
        "⭐ Overall Rating: The overall rating given to the product (ranging from 1 to 5 stars).\n",
        "\n",
        "📰 Summary: A brief summary of the review.\n",
        "\n",
        "🕰️ Unix Review Time: The time the review was posted in Unix timestamp format.\n",
        "\n",
        "📅 Review Time: The time the review was posted in a readable date format.\n",
        "\n",
        "📆 Day Difference: The number of days between the review date and the current date.\n",
        "\n",
        "✔️ Helpful Yes: Number of positive helpful votes.\n",
        "\n",
        "🔢 Total Votes: Total number of votes the review received."
      ],
      "metadata": {
        "id": "7hsADh7PqTRf"
      },
      "id": "7hsADh7PqTRf"
    },
    {
      "cell_type": "code",
      "source": [],
      "metadata": {
        "id": "xwQNSSRSqTBp"
      },
      "id": "xwQNSSRSqTBp",
      "execution_count": null,
      "outputs": []
    },
    {
      "cell_type": "markdown",
      "id": "37f40c50",
      "metadata": {
        "id": "37f40c50"
      },
      "source": [
        "### 1. Setup"
      ]
    },
    {
      "cell_type": "code",
      "execution_count": 1,
      "id": "e0037397",
      "metadata": {
        "id": "e0037397"
      },
      "outputs": [],
      "source": [
        "# Instala paquetes extra si los necesitas\n",
        "# !pip install shap\n",
        "\n",
        "import pandas as pd, numpy as np, matplotlib.pyplot as plt, seaborn as sns\n",
        "from sklearn.model_selection import train_test_split\n",
        "from sklearn.feature_extraction.text import TfidfVectorizer\n",
        "from sklearn.pipeline import Pipeline\n",
        "from sklearn.linear_model import LogisticRegression\n",
        "from sklearn.metrics import classification_report, ConfusionMatrixDisplay\n",
        "from sklearn.cluster import KMeans\n",
        "from sklearn.metrics import silhouette_score\n",
        "import warnings, random, os\n",
        "warnings.filterwarnings('ignore')\n",
        "random.seed(42)\n",
        "np.random.seed(42)"
      ]
    },
    {
      "cell_type": "markdown",
      "id": "bb527f5e",
      "metadata": {
        "id": "bb527f5e"
      },
      "source": [
        "### 2. Carga del dataset"
      ]
    },
    {
      "cell_type": "code",
      "source": [
        "!wget https://github.com/javierherrera1996/IntroMachineLearning/raw/refs/heads/main/TercerCorte/amazon_review.csv.zip"
      ],
      "metadata": {
        "colab": {
          "base_uri": "https://localhost:8080/"
        },
        "id": "JXgp7kP5oj1e",
        "outputId": "f335f782-77ac-4925-b108-7e522c9fd23d"
      },
      "id": "JXgp7kP5oj1e",
      "execution_count": 2,
      "outputs": [
        {
          "output_type": "stream",
          "name": "stdout",
          "text": [
            "--2025-06-04 02:50:51--  https://github.com/javierherrera1996/IntroMachineLearning/raw/refs/heads/main/TercerCorte/amazon_review.csv.zip\n",
            "Resolving github.com (github.com)... 140.82.114.4\n",
            "Connecting to github.com (github.com)|140.82.114.4|:443... connected.\n",
            "HTTP request sent, awaiting response... 302 Found\n",
            "Location: https://raw.githubusercontent.com/javierherrera1996/IntroMachineLearning/refs/heads/main/TercerCorte/amazon_review.csv.zip [following]\n",
            "--2025-06-04 02:50:51--  https://raw.githubusercontent.com/javierherrera1996/IntroMachineLearning/refs/heads/main/TercerCorte/amazon_review.csv.zip\n",
            "Resolving raw.githubusercontent.com (raw.githubusercontent.com)... 185.199.108.133, 185.199.109.133, 185.199.110.133, ...\n",
            "Connecting to raw.githubusercontent.com (raw.githubusercontent.com)|185.199.108.133|:443... connected.\n",
            "HTTP request sent, awaiting response... 200 OK\n",
            "Length: 721801 (705K) [application/zip]\n",
            "Saving to: ‘amazon_review.csv.zip’\n",
            "\n",
            "amazon_review.csv.z 100%[===================>] 704.88K  --.-KB/s    in 0.05s   \n",
            "\n",
            "2025-06-04 02:50:52 (12.8 MB/s) - ‘amazon_review.csv.zip’ saved [721801/721801]\n",
            "\n"
          ]
        }
      ]
    },
    {
      "cell_type": "code",
      "source": [
        "!unzip amazon_review.csv.zip"
      ],
      "metadata": {
        "colab": {
          "base_uri": "https://localhost:8080/"
        },
        "id": "AK_yVUSMoovr",
        "outputId": "01464c10-b1cc-4349-dd36-29ed0494fd53"
      },
      "id": "AK_yVUSMoovr",
      "execution_count": 3,
      "outputs": [
        {
          "output_type": "stream",
          "name": "stdout",
          "text": [
            "Archive:  amazon_review.csv.zip\n",
            "  inflating: amazon_review.csv       \n"
          ]
        }
      ]
    },
    {
      "cell_type": "code",
      "source": [
        "import pandas as pd\n",
        "df = pd.read_csv('amazon_review.csv')\n",
        "df.head()"
      ],
      "metadata": {
        "colab": {
          "base_uri": "https://localhost:8080/",
          "height": 275
        },
        "id": "nuH4Usfbok5j",
        "outputId": "9001f10d-37a4-4c48-b16b-3491cc1c093b"
      },
      "id": "nuH4Usfbok5j",
      "execution_count": 4,
      "outputs": [
        {
          "output_type": "execute_result",
          "data": {
            "text/plain": [
              "       reviewerID        asin  reviewerName helpful  \\\n",
              "0  A3SBTW3WS4IQSN  B007WTAJTO           NaN  [0, 0]   \n",
              "1  A18K1ODH1I2MVB  B007WTAJTO          0mie  [0, 0]   \n",
              "2  A2FII3I2MBMUIA  B007WTAJTO           1K3  [0, 0]   \n",
              "3   A3H99DFEG68SR  B007WTAJTO           1m2  [0, 0]   \n",
              "4  A375ZM4U047O79  B007WTAJTO  2&amp;1/2Men  [0, 0]   \n",
              "\n",
              "                                          reviewText  overall  \\\n",
              "0                                         No issues.      4.0   \n",
              "1  Purchased this for my device, it worked as adv...      5.0   \n",
              "2  it works as expected. I should have sprung for...      4.0   \n",
              "3  This think has worked out great.Had a diff. br...      5.0   \n",
              "4  Bought it with Retail Packaging, arrived legit...      5.0   \n",
              "\n",
              "                                  summary  unixReviewTime  reviewTime  \\\n",
              "0                              Four Stars      1406073600  2014-07-23   \n",
              "1                           MOAR SPACE!!!      1382659200  2013-10-25   \n",
              "2               nothing to really say....      1356220800  2012-12-23   \n",
              "3  Great buy at this price!!!  *** UPDATE      1384992000  2013-11-21   \n",
              "4                        best deal around      1373673600  2013-07-13   \n",
              "\n",
              "   day_diff  helpful_yes  total_vote  \n",
              "0       138            0           0  \n",
              "1       409            0           0  \n",
              "2       715            0           0  \n",
              "3       382            0           0  \n",
              "4       513            0           0  "
            ],
            "text/html": [
              "\n",
              "  <div id=\"df-f61f5f37-32b8-44ac-a9ae-dc3051a8e8f0\" class=\"colab-df-container\">\n",
              "    <div>\n",
              "<style scoped>\n",
              "    .dataframe tbody tr th:only-of-type {\n",
              "        vertical-align: middle;\n",
              "    }\n",
              "\n",
              "    .dataframe tbody tr th {\n",
              "        vertical-align: top;\n",
              "    }\n",
              "\n",
              "    .dataframe thead th {\n",
              "        text-align: right;\n",
              "    }\n",
              "</style>\n",
              "<table border=\"1\" class=\"dataframe\">\n",
              "  <thead>\n",
              "    <tr style=\"text-align: right;\">\n",
              "      <th></th>\n",
              "      <th>reviewerID</th>\n",
              "      <th>asin</th>\n",
              "      <th>reviewerName</th>\n",
              "      <th>helpful</th>\n",
              "      <th>reviewText</th>\n",
              "      <th>overall</th>\n",
              "      <th>summary</th>\n",
              "      <th>unixReviewTime</th>\n",
              "      <th>reviewTime</th>\n",
              "      <th>day_diff</th>\n",
              "      <th>helpful_yes</th>\n",
              "      <th>total_vote</th>\n",
              "    </tr>\n",
              "  </thead>\n",
              "  <tbody>\n",
              "    <tr>\n",
              "      <th>0</th>\n",
              "      <td>A3SBTW3WS4IQSN</td>\n",
              "      <td>B007WTAJTO</td>\n",
              "      <td>NaN</td>\n",
              "      <td>[0, 0]</td>\n",
              "      <td>No issues.</td>\n",
              "      <td>4.0</td>\n",
              "      <td>Four Stars</td>\n",
              "      <td>1406073600</td>\n",
              "      <td>2014-07-23</td>\n",
              "      <td>138</td>\n",
              "      <td>0</td>\n",
              "      <td>0</td>\n",
              "    </tr>\n",
              "    <tr>\n",
              "      <th>1</th>\n",
              "      <td>A18K1ODH1I2MVB</td>\n",
              "      <td>B007WTAJTO</td>\n",
              "      <td>0mie</td>\n",
              "      <td>[0, 0]</td>\n",
              "      <td>Purchased this for my device, it worked as adv...</td>\n",
              "      <td>5.0</td>\n",
              "      <td>MOAR SPACE!!!</td>\n",
              "      <td>1382659200</td>\n",
              "      <td>2013-10-25</td>\n",
              "      <td>409</td>\n",
              "      <td>0</td>\n",
              "      <td>0</td>\n",
              "    </tr>\n",
              "    <tr>\n",
              "      <th>2</th>\n",
              "      <td>A2FII3I2MBMUIA</td>\n",
              "      <td>B007WTAJTO</td>\n",
              "      <td>1K3</td>\n",
              "      <td>[0, 0]</td>\n",
              "      <td>it works as expected. I should have sprung for...</td>\n",
              "      <td>4.0</td>\n",
              "      <td>nothing to really say....</td>\n",
              "      <td>1356220800</td>\n",
              "      <td>2012-12-23</td>\n",
              "      <td>715</td>\n",
              "      <td>0</td>\n",
              "      <td>0</td>\n",
              "    </tr>\n",
              "    <tr>\n",
              "      <th>3</th>\n",
              "      <td>A3H99DFEG68SR</td>\n",
              "      <td>B007WTAJTO</td>\n",
              "      <td>1m2</td>\n",
              "      <td>[0, 0]</td>\n",
              "      <td>This think has worked out great.Had a diff. br...</td>\n",
              "      <td>5.0</td>\n",
              "      <td>Great buy at this price!!!  *** UPDATE</td>\n",
              "      <td>1384992000</td>\n",
              "      <td>2013-11-21</td>\n",
              "      <td>382</td>\n",
              "      <td>0</td>\n",
              "      <td>0</td>\n",
              "    </tr>\n",
              "    <tr>\n",
              "      <th>4</th>\n",
              "      <td>A375ZM4U047O79</td>\n",
              "      <td>B007WTAJTO</td>\n",
              "      <td>2&amp;amp;1/2Men</td>\n",
              "      <td>[0, 0]</td>\n",
              "      <td>Bought it with Retail Packaging, arrived legit...</td>\n",
              "      <td>5.0</td>\n",
              "      <td>best deal around</td>\n",
              "      <td>1373673600</td>\n",
              "      <td>2013-07-13</td>\n",
              "      <td>513</td>\n",
              "      <td>0</td>\n",
              "      <td>0</td>\n",
              "    </tr>\n",
              "  </tbody>\n",
              "</table>\n",
              "</div>\n",
              "    <div class=\"colab-df-buttons\">\n",
              "\n",
              "  <div class=\"colab-df-container\">\n",
              "    <button class=\"colab-df-convert\" onclick=\"convertToInteractive('df-f61f5f37-32b8-44ac-a9ae-dc3051a8e8f0')\"\n",
              "            title=\"Convert this dataframe to an interactive table.\"\n",
              "            style=\"display:none;\">\n",
              "\n",
              "  <svg xmlns=\"http://www.w3.org/2000/svg\" height=\"24px\" viewBox=\"0 -960 960 960\">\n",
              "    <path d=\"M120-120v-720h720v720H120Zm60-500h600v-160H180v160Zm220 220h160v-160H400v160Zm0 220h160v-160H400v160ZM180-400h160v-160H180v160Zm440 0h160v-160H620v160ZM180-180h160v-160H180v160Zm440 0h160v-160H620v160Z\"/>\n",
              "  </svg>\n",
              "    </button>\n",
              "\n",
              "  <style>\n",
              "    .colab-df-container {\n",
              "      display:flex;\n",
              "      gap: 12px;\n",
              "    }\n",
              "\n",
              "    .colab-df-convert {\n",
              "      background-color: #E8F0FE;\n",
              "      border: none;\n",
              "      border-radius: 50%;\n",
              "      cursor: pointer;\n",
              "      display: none;\n",
              "      fill: #1967D2;\n",
              "      height: 32px;\n",
              "      padding: 0 0 0 0;\n",
              "      width: 32px;\n",
              "    }\n",
              "\n",
              "    .colab-df-convert:hover {\n",
              "      background-color: #E2EBFA;\n",
              "      box-shadow: 0px 1px 2px rgba(60, 64, 67, 0.3), 0px 1px 3px 1px rgba(60, 64, 67, 0.15);\n",
              "      fill: #174EA6;\n",
              "    }\n",
              "\n",
              "    .colab-df-buttons div {\n",
              "      margin-bottom: 4px;\n",
              "    }\n",
              "\n",
              "    [theme=dark] .colab-df-convert {\n",
              "      background-color: #3B4455;\n",
              "      fill: #D2E3FC;\n",
              "    }\n",
              "\n",
              "    [theme=dark] .colab-df-convert:hover {\n",
              "      background-color: #434B5C;\n",
              "      box-shadow: 0px 1px 3px 1px rgba(0, 0, 0, 0.15);\n",
              "      filter: drop-shadow(0px 1px 2px rgba(0, 0, 0, 0.3));\n",
              "      fill: #FFFFFF;\n",
              "    }\n",
              "  </style>\n",
              "\n",
              "    <script>\n",
              "      const buttonEl =\n",
              "        document.querySelector('#df-f61f5f37-32b8-44ac-a9ae-dc3051a8e8f0 button.colab-df-convert');\n",
              "      buttonEl.style.display =\n",
              "        google.colab.kernel.accessAllowed ? 'block' : 'none';\n",
              "\n",
              "      async function convertToInteractive(key) {\n",
              "        const element = document.querySelector('#df-f61f5f37-32b8-44ac-a9ae-dc3051a8e8f0');\n",
              "        const dataTable =\n",
              "          await google.colab.kernel.invokeFunction('convertToInteractive',\n",
              "                                                    [key], {});\n",
              "        if (!dataTable) return;\n",
              "\n",
              "        const docLinkHtml = 'Like what you see? Visit the ' +\n",
              "          '<a target=\"_blank\" href=https://colab.research.google.com/notebooks/data_table.ipynb>data table notebook</a>'\n",
              "          + ' to learn more about interactive tables.';\n",
              "        element.innerHTML = '';\n",
              "        dataTable['output_type'] = 'display_data';\n",
              "        await google.colab.output.renderOutput(dataTable, element);\n",
              "        const docLink = document.createElement('div');\n",
              "        docLink.innerHTML = docLinkHtml;\n",
              "        element.appendChild(docLink);\n",
              "      }\n",
              "    </script>\n",
              "  </div>\n",
              "\n",
              "\n",
              "    <div id=\"df-2de58eb7-53d7-4ec7-ad5a-51940728fc13\">\n",
              "      <button class=\"colab-df-quickchart\" onclick=\"quickchart('df-2de58eb7-53d7-4ec7-ad5a-51940728fc13')\"\n",
              "                title=\"Suggest charts\"\n",
              "                style=\"display:none;\">\n",
              "\n",
              "<svg xmlns=\"http://www.w3.org/2000/svg\" height=\"24px\"viewBox=\"0 0 24 24\"\n",
              "     width=\"24px\">\n",
              "    <g>\n",
              "        <path d=\"M19 3H5c-1.1 0-2 .9-2 2v14c0 1.1.9 2 2 2h14c1.1 0 2-.9 2-2V5c0-1.1-.9-2-2-2zM9 17H7v-7h2v7zm4 0h-2V7h2v10zm4 0h-2v-4h2v4z\"/>\n",
              "    </g>\n",
              "</svg>\n",
              "      </button>\n",
              "\n",
              "<style>\n",
              "  .colab-df-quickchart {\n",
              "      --bg-color: #E8F0FE;\n",
              "      --fill-color: #1967D2;\n",
              "      --hover-bg-color: #E2EBFA;\n",
              "      --hover-fill-color: #174EA6;\n",
              "      --disabled-fill-color: #AAA;\n",
              "      --disabled-bg-color: #DDD;\n",
              "  }\n",
              "\n",
              "  [theme=dark] .colab-df-quickchart {\n",
              "      --bg-color: #3B4455;\n",
              "      --fill-color: #D2E3FC;\n",
              "      --hover-bg-color: #434B5C;\n",
              "      --hover-fill-color: #FFFFFF;\n",
              "      --disabled-bg-color: #3B4455;\n",
              "      --disabled-fill-color: #666;\n",
              "  }\n",
              "\n",
              "  .colab-df-quickchart {\n",
              "    background-color: var(--bg-color);\n",
              "    border: none;\n",
              "    border-radius: 50%;\n",
              "    cursor: pointer;\n",
              "    display: none;\n",
              "    fill: var(--fill-color);\n",
              "    height: 32px;\n",
              "    padding: 0;\n",
              "    width: 32px;\n",
              "  }\n",
              "\n",
              "  .colab-df-quickchart:hover {\n",
              "    background-color: var(--hover-bg-color);\n",
              "    box-shadow: 0 1px 2px rgba(60, 64, 67, 0.3), 0 1px 3px 1px rgba(60, 64, 67, 0.15);\n",
              "    fill: var(--button-hover-fill-color);\n",
              "  }\n",
              "\n",
              "  .colab-df-quickchart-complete:disabled,\n",
              "  .colab-df-quickchart-complete:disabled:hover {\n",
              "    background-color: var(--disabled-bg-color);\n",
              "    fill: var(--disabled-fill-color);\n",
              "    box-shadow: none;\n",
              "  }\n",
              "\n",
              "  .colab-df-spinner {\n",
              "    border: 2px solid var(--fill-color);\n",
              "    border-color: transparent;\n",
              "    border-bottom-color: var(--fill-color);\n",
              "    animation:\n",
              "      spin 1s steps(1) infinite;\n",
              "  }\n",
              "\n",
              "  @keyframes spin {\n",
              "    0% {\n",
              "      border-color: transparent;\n",
              "      border-bottom-color: var(--fill-color);\n",
              "      border-left-color: var(--fill-color);\n",
              "    }\n",
              "    20% {\n",
              "      border-color: transparent;\n",
              "      border-left-color: var(--fill-color);\n",
              "      border-top-color: var(--fill-color);\n",
              "    }\n",
              "    30% {\n",
              "      border-color: transparent;\n",
              "      border-left-color: var(--fill-color);\n",
              "      border-top-color: var(--fill-color);\n",
              "      border-right-color: var(--fill-color);\n",
              "    }\n",
              "    40% {\n",
              "      border-color: transparent;\n",
              "      border-right-color: var(--fill-color);\n",
              "      border-top-color: var(--fill-color);\n",
              "    }\n",
              "    60% {\n",
              "      border-color: transparent;\n",
              "      border-right-color: var(--fill-color);\n",
              "    }\n",
              "    80% {\n",
              "      border-color: transparent;\n",
              "      border-right-color: var(--fill-color);\n",
              "      border-bottom-color: var(--fill-color);\n",
              "    }\n",
              "    90% {\n",
              "      border-color: transparent;\n",
              "      border-bottom-color: var(--fill-color);\n",
              "    }\n",
              "  }\n",
              "</style>\n",
              "\n",
              "      <script>\n",
              "        async function quickchart(key) {\n",
              "          const quickchartButtonEl =\n",
              "            document.querySelector('#' + key + ' button');\n",
              "          quickchartButtonEl.disabled = true;  // To prevent multiple clicks.\n",
              "          quickchartButtonEl.classList.add('colab-df-spinner');\n",
              "          try {\n",
              "            const charts = await google.colab.kernel.invokeFunction(\n",
              "                'suggestCharts', [key], {});\n",
              "          } catch (error) {\n",
              "            console.error('Error during call to suggestCharts:', error);\n",
              "          }\n",
              "          quickchartButtonEl.classList.remove('colab-df-spinner');\n",
              "          quickchartButtonEl.classList.add('colab-df-quickchart-complete');\n",
              "        }\n",
              "        (() => {\n",
              "          let quickchartButtonEl =\n",
              "            document.querySelector('#df-2de58eb7-53d7-4ec7-ad5a-51940728fc13 button');\n",
              "          quickchartButtonEl.style.display =\n",
              "            google.colab.kernel.accessAllowed ? 'block' : 'none';\n",
              "        })();\n",
              "      </script>\n",
              "    </div>\n",
              "\n",
              "    </div>\n",
              "  </div>\n"
            ],
            "application/vnd.google.colaboratory.intrinsic+json": {
              "type": "dataframe",
              "variable_name": "df",
              "summary": "{\n  \"name\": \"df\",\n  \"rows\": 4915,\n  \"fields\": [\n    {\n      \"column\": \"reviewerID\",\n      \"properties\": {\n        \"dtype\": \"string\",\n        \"num_unique_values\": 4915,\n        \"samples\": [\n          \"A3V5DNLW7DPMUA\",\n          \"A1F08OEM2LEJLK\",\n          \"AOOJ8Y18T3DGM\"\n        ],\n        \"semantic_type\": \"\",\n        \"description\": \"\"\n      }\n    },\n    {\n      \"column\": \"asin\",\n      \"properties\": {\n        \"dtype\": \"category\",\n        \"num_unique_values\": 1,\n        \"samples\": [\n          \"B007WTAJTO\"\n        ],\n        \"semantic_type\": \"\",\n        \"description\": \"\"\n      }\n    },\n    {\n      \"column\": \"reviewerName\",\n      \"properties\": {\n        \"dtype\": \"string\",\n        \"num_unique_values\": 4594,\n        \"samples\": [\n          \"nta699\"\n        ],\n        \"semantic_type\": \"\",\n        \"description\": \"\"\n      }\n    },\n    {\n      \"column\": \"helpful\",\n      \"properties\": {\n        \"dtype\": \"category\",\n        \"num_unique_values\": 42,\n        \"samples\": [\n          \"[1952, 2020]\"\n        ],\n        \"semantic_type\": \"\",\n        \"description\": \"\"\n      }\n    },\n    {\n      \"column\": \"reviewText\",\n      \"properties\": {\n        \"dtype\": \"string\",\n        \"num_unique_values\": 4912,\n        \"samples\": [\n          \"Bought this for extended memory in a Galaxy S III.  Great price. Easy to install and the phone recognized it instantly. Does what its supposed to do.\"\n        ],\n        \"semantic_type\": \"\",\n        \"description\": \"\"\n      }\n    },\n    {\n      \"column\": \"overall\",\n      \"properties\": {\n        \"dtype\": \"number\",\n        \"std\": 0.9968451383820023,\n        \"min\": 1.0,\n        \"max\": 5.0,\n        \"num_unique_values\": 5,\n        \"samples\": [\n          5.0\n        ],\n        \"semantic_type\": \"\",\n        \"description\": \"\"\n      }\n    },\n    {\n      \"column\": \"summary\",\n      \"properties\": {\n        \"dtype\": \"string\",\n        \"num_unique_values\": 3885,\n        \"samples\": [\n          \"NICE!!!\"\n        ],\n        \"semantic_type\": \"\",\n        \"description\": \"\"\n      }\n    },\n    {\n      \"column\": \"unixReviewTime\",\n      \"properties\": {\n        \"dtype\": \"number\",\n        \"std\": 15818574,\n        \"min\": 1339200000,\n        \"max\": 1406073600,\n        \"num_unique_values\": 690,\n        \"samples\": [\n          1386028800\n        ],\n        \"semantic_type\": \"\",\n        \"description\": \"\"\n      }\n    },\n    {\n      \"column\": \"reviewTime\",\n      \"properties\": {\n        \"dtype\": \"object\",\n        \"num_unique_values\": 690,\n        \"samples\": [\n          \"2013-03-12\"\n        ],\n        \"semantic_type\": \"\",\n        \"description\": \"\"\n      }\n    },\n    {\n      \"column\": \"day_diff\",\n      \"properties\": {\n        \"dtype\": \"number\",\n        \"std\": 209,\n        \"min\": 1,\n        \"max\": 1064,\n        \"num_unique_values\": 690,\n        \"samples\": [\n          636\n        ],\n        \"semantic_type\": \"\",\n        \"description\": \"\"\n      }\n    },\n    {\n      \"column\": \"helpful_yes\",\n      \"properties\": {\n        \"dtype\": \"number\",\n        \"std\": 41,\n        \"min\": 0,\n        \"max\": 1952,\n        \"num_unique_values\": 23,\n        \"samples\": [\n          1428\n        ],\n        \"semantic_type\": \"\",\n        \"description\": \"\"\n      }\n    },\n    {\n      \"column\": \"total_vote\",\n      \"properties\": {\n        \"dtype\": \"number\",\n        \"std\": 44,\n        \"min\": 0,\n        \"max\": 2020,\n        \"num_unique_values\": 26,\n        \"samples\": [\n          495\n        ],\n        \"semantic_type\": \"\",\n        \"description\": \"\"\n      }\n    }\n  ]\n}"
            }
          },
          "metadata": {},
          "execution_count": 4
        }
      ]
    },
    {
      "cell_type": "markdown",
      "id": "2e62da97",
      "metadata": {
        "id": "2e62da97"
      },
      "source": [
        "### 3. Exploratory Data Analysis (EDA)"
      ]
    },
    {
      "cell_type": "code",
      "execution_count": 4,
      "id": "b26855f6",
      "metadata": {
        "id": "b26855f6"
      },
      "outputs": [],
      "source": []
    },
    {
      "cell_type": "markdown",
      "id": "db24870b",
      "metadata": {
        "id": "db24870b"
      },
      "source": [
        "### 4. Limpieza & Feature Engineering"
      ]
    },
    {
      "cell_type": "markdown",
      "source": [
        "### 4.1 Cree un revie_datetime usando unixReviewTime y la funcion pd.to_datetime"
      ],
      "metadata": {
        "id": "263RZ7LVppCJ"
      },
      "id": "263RZ7LVppCJ"
    },
    {
      "cell_type": "code",
      "source": [
        "# prompt: Cree un revie_datetime usando unixReviewTime y la funcion pd.to_datetime\n",
        "\n",
        "df['review_datetime'] = pd.to_datetime(df['unixReviewTime'], unit='s')"
      ],
      "metadata": {
        "id": "aaRVdrUBp1r5"
      },
      "id": "aaRVdrUBp1r5",
      "execution_count": 5,
      "outputs": []
    },
    {
      "cell_type": "markdown",
      "source": [
        "### 4.2 Cree una columna positive que sea igual a 1 cuando overall sea mayor o igual  a 4."
      ],
      "metadata": {
        "id": "vghJGFePp1L6"
      },
      "id": "vghJGFePp1L6"
    },
    {
      "cell_type": "code",
      "source": [
        "# prompt:  Cree una columna positive que sea igual a 1 cuando overall sea mayor o igual a 4.\n",
        "\n",
        "df['positive'] = (df['overall'] >= 4).astype(int)"
      ],
      "metadata": {
        "id": "IwtJPdBFposv"
      },
      "id": "IwtJPdBFposv",
      "execution_count": 6,
      "outputs": []
    },
    {
      "cell_type": "markdown",
      "source": [
        "### 4.3 Cree una columna text que sea la union de summary y review text: text_cols['summary'] + '. ' + text_cols['reviewText']).str.strip()"
      ],
      "metadata": {
        "id": "XitrTtwNqugO"
      },
      "id": "XitrTtwNqugO"
    },
    {
      "cell_type": "code",
      "source": [
        "# prompt: Cree una columna text que sea la union de summary y review text: text_cols['summary'] + '. ' + text_cols['reviewText']).str.strip()\n",
        "\n",
        "text_cols = df[['summary', 'reviewText']].fillna('')\n",
        "df['text'] = (text_cols['summary'] + '. ' + text_cols['reviewText']).str.strip()"
      ],
      "metadata": {
        "id": "dJsEMeTHrDxp"
      },
      "id": "dJsEMeTHrDxp",
      "execution_count": 7,
      "outputs": []
    },
    {
      "cell_type": "markdown",
      "source": [
        "### 4.4 Elimine las columnas que no puede usar en el modleo de clasificacion"
      ],
      "metadata": {
        "id": "VVPUjYq-q_1f"
      },
      "id": "VVPUjYq-q_1f"
    },
    {
      "cell_type": "code",
      "source": [
        "# Drop columns not needed for classification\n",
        "cols_to_drop = ['reviewerID', 'asin', 'reviewerName', 'helpful', 'overall', 'summary', 'unixReviewTime', 'reviewTime', 'day_diff', 'helpful_yes', 'review_datetime']\n",
        "df = df.drop(columns=cols_to_drop)\n",
        "\n",
        "print(df.head())"
      ],
      "metadata": {
        "id": "zKB4UPOIrJkq",
        "colab": {
          "base_uri": "https://localhost:8080/"
        },
        "outputId": "7de5bcd7-8145-4587-e21d-8cf57bfb13e7"
      },
      "id": "zKB4UPOIrJkq",
      "execution_count": 9,
      "outputs": [
        {
          "output_type": "stream",
          "name": "stdout",
          "text": [
            "                                          reviewText  total_vote  positive  \\\n",
            "0                                         No issues.           0         1   \n",
            "1  Purchased this for my device, it worked as adv...           0         1   \n",
            "2  it works as expected. I should have sprung for...           0         1   \n",
            "3  This think has worked out great.Had a diff. br...           0         1   \n",
            "4  Bought it with Retail Packaging, arrived legit...           0         1   \n",
            "\n",
            "                                                text  \n",
            "0                             Four Stars. No issues.  \n",
            "1  MOAR SPACE!!!. Purchased this for my device, i...  \n",
            "2  nothing to really say..... it works as expecte...  \n",
            "3  Great buy at this price!!!  *** UPDATE. This t...  \n",
            "4  best deal around. Bought it with Retail Packag...  \n"
          ]
        }
      ]
    },
    {
      "cell_type": "markdown",
      "source": [],
      "metadata": {
        "id": "ecjO0i3irBZN"
      },
      "id": "ecjO0i3irBZN"
    },
    {
      "cell_type": "code",
      "source": [
        "X_train, X_test, y_train, y_test = train_test_split(\n",
        "        df['text'], df['positive'], test_size=0.3, stratify=df['positive'], random_state=42)\n",
        "\n",
        "pipe = Pipeline([\n",
        "    ('tfidf', TfidfVectorizer(max_features=10000)),\n",
        "    ('clf',  LogisticRegression(max_iter=1000, class_weight='balanced', n_jobs=-1, random_state=42))\n",
        "])\n",
        "\n",
        "# pipe.fit(X_train, y_train)"
      ],
      "metadata": {
        "id": "xUpS8Cjbs4YS"
      },
      "id": "xUpS8Cjbs4YS",
      "execution_count": 10,
      "outputs": []
    },
    {
      "cell_type": "markdown",
      "source": [],
      "metadata": {
        "id": "aSnxH3ZqqsVG"
      },
      "id": "aSnxH3ZqqsVG"
    },
    {
      "cell_type": "markdown",
      "id": "e98db953",
      "metadata": {
        "id": "e98db953"
      },
      "source": [
        "### 5. Modelo de Clasificación – Supervisado (25 pts)\n",
        "  * Ralice una regreison logistica y use la columa positive que creoo como target, entregue una matriz de confusion"
      ]
    },
    {
      "cell_type": "code",
      "execution_count": 11,
      "id": "f408a4bc",
      "metadata": {
        "id": "f408a4bc",
        "colab": {
          "base_uri": "https://localhost:8080/",
          "height": 755
        },
        "outputId": "1929653f-1cc9-413e-86ec-f2fa3de6225c"
      },
      "outputs": [
        {
          "output_type": "display_data",
          "data": {
            "text/plain": [
              "<Figure size 800x600 with 1 Axes>"
            ],
            "image/png": "[encoded data removed]"
          },
          "metadata": {}
        },
        {
          "output_type": "stream",
          "name": "stdout",
          "text": [
            "\n",
            "Classification Report:\n",
            "              precision    recall  f1-score   support\n",
            "\n",
            "           0       0.55      0.78      0.64       140\n",
            "           1       0.98      0.93      0.95      1335\n",
            "\n",
            "    accuracy                           0.92      1475\n",
            "   macro avg       0.76      0.86      0.80      1475\n",
            "weighted avg       0.94      0.92      0.92      1475\n",
            "\n"
          ]
        }
      ],
      "source": [
        "# prompt: Ralice una regreison logistica y use la columa positive que creoo como target, entregue una matriz de confusion\n",
        "\n",
        "pipe.fit(X_train, y_train)\n",
        "\n",
        "# Predecir en el conjunto de prueba\n",
        "y_pred = pipe.predict(X_test)\n",
        "\n",
        "# Generar y mostrar la matriz de confusión\n",
        "from sklearn.metrics import confusion_matrix\n",
        "import matplotlib.pyplot as plt\n",
        "import seaborn as sns\n",
        "\n",
        "cm = confusion_matrix(y_test, y_pred)\n",
        "\n",
        "plt.figure(figsize=(8, 6))\n",
        "sns.heatmap(cm, annot=True, fmt='d', cmap='Blues', cbar=False,\n",
        "            xticklabels=['Negative', 'Positive'], yticklabels=['Negative', 'Positive'])\n",
        "plt.xlabel('Predicted Label')\n",
        "plt.ylabel('True Label')\n",
        "plt.title('Confusion Matrix for Logistic Regression')\n",
        "plt.show()\n",
        "\n",
        "# Opcional: Mostrar un reporte de clasificación con métricas adicionales\n",
        "print(\"\\nClassification Report:\")\n",
        "print(classification_report(y_test, y_pred))"
      ]
    },
    {
      "cell_type": "markdown",
      "id": "a689272e",
      "metadata": {
        "id": "a689272e"
      },
      "source": [
        "### 6. Clustering K‑means – No Supervisado (20 pts)\n",
        "Haga un modelo para agrupasr los comentarios: vectorizer = TfidfVectorizer(max_features=10000)\n",
        "X_vec = vectorizer.fit_transform(df['text'])\n",
        "\n",
        "y cre una variable que se llame clsuter"
      ]
    },
    {
      "cell_type": "code",
      "execution_count": 12,
      "id": "c4de9f6c",
      "metadata": {
        "id": "c4de9f6c",
        "colab": {
          "base_uri": "https://localhost:8080/"
        },
        "outputId": "cff41987-93d9-4fda-afc4-549e3c1c76a4"
      },
      "outputs": [
        {
          "output_type": "stream",
          "name": "stdout",
          "text": [
            "                                          reviewText  total_vote  positive  \\\n",
            "0                                         No issues.           0         1   \n",
            "1  Purchased this for my device, it worked as adv...           0         1   \n",
            "2  it works as expected. I should have sprung for...           0         1   \n",
            "3  This think has worked out great.Had a diff. br...           0         1   \n",
            "4  Bought it with Retail Packaging, arrived legit...           0         1   \n",
            "\n",
            "                                                text  cluster  \n",
            "0                             Four Stars. No issues.        1  \n",
            "1  MOAR SPACE!!!. Purchased this for my device, i...        0  \n",
            "2  nothing to really say..... it works as expecte...        1  \n",
            "3  Great buy at this price!!!  *** UPDATE. This t...        2  \n",
            "4  best deal around. Bought it with Retail Packag...        1  \n"
          ]
        }
      ],
      "source": [
        "# prompt: Haga un modelo para agrupasr los comentarios: vectorizer = TfidfVectorizer(max_features=10000) X_vec = vectorizer.fit_transform(df['text'])\n",
        "# y cre una variable que se llame clsuter\n",
        "\n",
        "vectorizer = TfidfVectorizer(max_features=10000)\n",
        "X_vec = vectorizer.fit_transform(df['text'])\n",
        "\n",
        "# TODO: Elige el número de clústeres k. Puedes usar métodos como el codo o el coeficiente de silueta.\n",
        "# Por ahora, elegimos un número arbitrario, por ejemplo 5.\n",
        "k = 5 # Puedes cambiar este valor\n",
        "\n",
        "# Inicializa el modelo KMeans\n",
        "kmeans = KMeans(n_clusters=k, random_state=42)\n",
        "\n",
        "# Ajusta el modelo a los datos vectorizados\n",
        "kmeans.fit(X_vec)\n",
        "\n",
        "# Asigna las etiquetas de clúster al dataframe original\n",
        "cluster = kmeans.labels_\n",
        "\n",
        "# Añade la columna 'cluster' al dataframe\n",
        "df['cluster'] = cluster\n",
        "\n",
        "print(df.head())"
      ]
    },
    {
      "cell_type": "markdown",
      "id": "0e817a5b",
      "metadata": {
        "id": "0e817a5b"
      },
      "source": [
        "#### Perfil de clusters: Entregue una descriptiva de que contenia cada clster en termino de las otras variables"
      ]
    },
    {
      "cell_type": "code",
      "source": [
        "# Haga un modelo para agrupasr los comentarios: vectorizer = TfidfVectorizer(max_features=10000) X_vec = vectorizer.fit_transform(df['text'])\n",
        "# y cre una variable que se llame clsuter\n",
        "\n",
        "vectorizer = TfidfVectorizer(max_features=10000)\n",
        "X_vec = vectorizer.fit_transform(df['text'])\n",
        "\n",
        "# TODO: Elige el número de clústeres k. Puedes usar métodos como el codo o el coeficiente de silueta.\n",
        "# Por ahora, elegimos un número arbitrario, por ejemplo 5.\n",
        "k = 5 # Puedes cambiar este valor\n",
        "\n",
        "# Inicializa el modelo KMeans\n",
        "kmeans = KMeans(n_clusters=k, random_state=42, n_init=10) # Add n_init for robustness\n",
        "\n",
        "# Ajusta el modelo a los datos vectorizados\n",
        "kmeans.fit(X_vec)\n",
        "\n",
        "# Asigna las etiquetas de clúster al dataframe original\n",
        "cluster = kmeans.labels_\n",
        "\n",
        "# Añade la columna 'cluster' al dataframe\n",
        "df['cluster'] = cluster\n",
        "\n",
        "print(df.head())\n",
        "\n",
        "# Re-load the original dataframe to access the 'overall' column for profiling\n",
        "df_original = pd.read_csv('amazon_review.csv')\n",
        "df_original['positive'] = (df_original['overall'] >= 4).astype(int)\n",
        "text_cols_original = df_original[['summary', 'reviewText']].fillna('')\n",
        "df_original['text'] = (text_cols_original['summary'] + '. ' + text_cols_original['reviewText']).str.strip()\n",
        "\n",
        "# Assign cluster labels to the reloaded dataframe\n",
        "df_original['cluster'] = cluster\n",
        "\n",
        "\n",
        "print(\"\\n--- Perfil Detallado de Clústeres con Datos Originales ---\")\n",
        "for i in range(k):\n",
        "    cluster_data = df_original[df_original['cluster'] == i]\n",
        "    print(f\"\\n--- Clúster {i} ---\")\n",
        "\n",
        "    if not cluster_data.empty:\n",
        "        # Profile by 'overall' rating\n",
        "        print(f\"Distribución de Calificación General (Overall Rating):\")\n",
        "        overall_counts = cluster_data['overall'].value_counts(normalize=True).sort_index() * 100\n",
        "        for rating, percentage in overall_counts.items():\n",
        "            print(f\"  Calificación {rating}: {percentage:.2f}%\")\n",
        "\n",
        "        # Profile by 'positive' label\n",
        "        print(f\"Distribución de Reseñas Positivas:\")\n",
        "        positive_counts = cluster_data['positive'].value_counts(normalize=True) * 100\n",
        "        if 1 in positive_counts:\n",
        "            print(f\"  Positivas (1): {positive_counts[1]:.2f}%\")\n",
        "        else:\n",
        "             print(f\"  Positivas (1): 0.00%\")\n",
        "        if 0 in positive_counts:\n",
        "             print(f\"  Negativas (0): {positive_counts[0]:.2f}%\")\n",
        "        else:\n",
        "             print(f\"  Negativas (0): 0.00%\")\n",
        "\n",
        "        # Optional: Look at the distribution of 'helpful_yes' and 'total_votes'\n",
        "        if 'helpful_yes' in cluster_data.columns:\n",
        "             print(f\"Votos Útiles (Media): {cluster_data['helpful_yes'].mean():.2f}\")\n",
        "        if 'total_vote' in cluster_data.columns: # Corrected column name to 'total_vote'\n",
        "             print(f\"Votos Totales (Media): {cluster_data['total_vote'].mean():.2f}\")\n",
        "\n",
        "        # Display some sample reviews from the cluster\n",
        "        print(\"Reseñas de Ejemplo:\")\n",
        "        sample_reviews = cluster_data['text'].sample(min(5, len(cluster_data))).tolist()\n",
        "        for j, review in enumerate(sample_reviews):\n",
        "            print(f\"  - {review[:200]}...\") # Print first 200 characters\n",
        "    else:\n",
        "        print(\"  El clúster está vacío.\")"
      ],
      "metadata": {
        "colab": {
          "base_uri": "https://localhost:8080/"
        },
        "id": "JXg_z_ge3PRo",
        "outputId": "afbfb4db-6651-4dd3-a3dd-d3acddd37c61"
      },
      "id": "JXg_z_ge3PRo",
      "execution_count": 17,
      "outputs": [
        {
          "output_type": "stream",
          "name": "stdout",
          "text": [
            "                                          reviewText  total_vote  positive  \\\n",
            "0                                         No issues.           0         1   \n",
            "1  Purchased this for my device, it worked as adv...           0         1   \n",
            "2  it works as expected. I should have sprung for...           0         1   \n",
            "3  This think has worked out great.Had a diff. br...           0         1   \n",
            "4  Bought it with Retail Packaging, arrived legit...           0         1   \n",
            "\n",
            "                                                text  cluster  \n",
            "0                             Four Stars. No issues.        0  \n",
            "1  MOAR SPACE!!!. Purchased this for my device, i...        3  \n",
            "2  nothing to really say..... it works as expecte...        3  \n",
            "3  Great buy at this price!!!  *** UPDATE. This t...        2  \n",
            "4  best deal around. Bought it with Retail Packag...        3  \n",
            "\n",
            "--- Perfil Detallado de Clústeres con Datos Originales ---\n",
            "\n",
            "--- Clúster 0 ---\n",
            "Distribución de Calificación General (Overall Rating):\n",
            "  Calificación 4.0: 6.00%\n",
            "  Calificación 5.0: 94.00%\n",
            "Distribución de Reseñas Positivas:\n",
            "  Positivas (1): 100.00%\n",
            "  Negativas (0): 0.00%\n",
            "Votos Útiles (Media): 0.00\n",
            "Votos Totales (Media): 0.00\n",
            "Reseñas de Ejemplo:\n",
            "  - Five Stars. great product......prompt service.......well done!...\n",
            "  - Five Stars. bought for my go pro and i love how much info it can hold.. graet price couldn't go wrong....\n",
            "  - Five Stars. exactly what it says and cheap...\n",
            "  - Five Stars. good...\n",
            "  - Five Stars. Can't beat the price....\n",
            "\n",
            "--- Clúster 1 ---\n",
            "Distribución de Calificación General (Overall Rating):\n",
            "  Calificación 1.0: 13.09%\n",
            "  Calificación 2.0: 4.36%\n",
            "  Calificación 3.0: 5.34%\n",
            "  Calificación 4.0: 14.34%\n",
            "  Calificación 5.0: 62.87%\n",
            "Distribución de Reseñas Positivas:\n",
            "  Positivas (1): 77.20%\n",
            "  Negativas (0): 22.80%\n",
            "Votos Útiles (Media): 5.40\n",
            "Votos Totales (Media): 5.91\n",
            "Reseñas de Ejemplo:\n",
            "  - Great card for the price.  Fast.. I purchased this for a cheap Android tablet.  I figured I'd try a cheap tablet first, and if I decided I wanted to go with an Android tablet, I'd get something good l...\n",
            "  - Doubled the Storage Capacity of my Dell Venue Pro 8. I was surprised to see the main drive in my Dell Venue Pro 8 was almost completely consumed by the Windows OS.  I added this card to create some sp...\n",
            "  - Perfect For Samsung Galaxy S4, Note 2, Asus TF101. Before using I strongly suggest to format the card, it only takes seconds. With the SanDisk I am able to transfer my images from the phone to the oth...\n",
            "  - Fast but not with out headachs. I bought two of these one for Asus infinity and one for Samsung galaxy s3 international version. It worked fine with my Asus but it didn't work on my phone. I formatted...\n",
            "  - Hmmmmm.  Maybe.  Maybe not. I am having some trouble with it in my cell phone (Motorola Triumph)  Music player has not been reliable since I loaded songs on it.  Not sure if it is the card or my phone...\n",
            "\n",
            "--- Clúster 2 ---\n",
            "Distribución de Calificación General (Overall Rating):\n",
            "  Calificación 1.0: 0.25%\n",
            "  Calificación 3.0: 0.25%\n",
            "  Calificación 4.0: 6.06%\n",
            "  Calificación 5.0: 93.45%\n",
            "Distribución de Reseñas Positivas:\n",
            "  Positivas (1): 99.51%\n",
            "  Negativas (0): 0.49%\n",
            "Votos Útiles (Media): 0.07\n",
            "Votos Totales (Media): 0.08\n",
            "Reseñas de Ejemplo:\n",
            "  - Good with Galaxy S3. Works great in a Samsung Galaxy S3.  Formatted straight away, full size there.  I can't really tell the speed difference between this one and a slower card it replaced.  I guess t...\n",
            "  - I get to store more books and videos. This is a great card and holds all of my fun items :-).  I have a mass of ebooks that don't take up much room, and I also get to store my favorite movies on it as...\n",
            "  - Works great and at a good price.. Works perfectly. I can take the microSDHC from my Galaxy Player and use the adaptor to plug it into my iMac with no problem at all....\n",
            "  - Works. This works great just like all SanDisk chips I have had. It's being used in My girlfriends Samsung Galaxy S3....\n",
            "  - Great memory card.. I use this memory card in my Galaxy S3, and though I had some issues getting it formatted correctly (this is the phone's fault) it works like a dream and have had ZERO issues....\n",
            "\n",
            "--- Clúster 3 ---\n",
            "Distribución de Calificación General (Overall Rating):\n",
            "  Calificación 1.0: 4.62%\n",
            "  Calificación 2.0: 1.50%\n",
            "  Calificación 3.0: 3.18%\n",
            "  Calificación 4.0: 10.69%\n",
            "  Calificación 5.0: 80.00%\n",
            "Distribución de Reseñas Positivas:\n",
            "  Positivas (1): 90.69%\n",
            "  Negativas (0): 9.31%\n",
            "Votos Útiles (Media): 0.16\n",
            "Votos Totales (Media): 0.39\n",
            "Reseñas de Ejemplo:\n",
            "  - Good buy. I bought two of these for our new telephones. They work fine and were just what we needed if we have extra pictures on the phones. Pictures do take up a lot of room but now we don't have to ...\n",
            "  - Did I said fast?  No, I mean super fast !!. Sandisk never disappoint.  For a 64gin micro-disk, this thing is super fast.  Using it in my new Galaxy Note 2, Amazing !!...\n",
            "  - Just what I expected!. I love the product!This is only a place you can review the product - not the handing! The handling sucked - the product is great!...\n",
            "  - I like these 32gb Cards. These cards work well with many of our pieces of electronic equipment when we travel.  The price was perfect and none failed. They also worked with the readers we had....\n",
            "  - More ROOM!. Love having all this extra space available. Sux that in future phones, Android is moving away from SD slots. I love having physical storage available, if I delete something from the cloud ...\n",
            "\n",
            "--- Clúster 4 ---\n",
            "Distribución de Calificación General (Overall Rating):\n",
            "  Calificación 1.0: 1.77%\n",
            "  Calificación 2.0: 0.63%\n",
            "  Calificación 3.0: 3.04%\n",
            "  Calificación 4.0: 13.16%\n",
            "  Calificación 5.0: 81.39%\n",
            "Distribución de Reseñas Positivas:\n",
            "  Positivas (1): 94.56%\n",
            "  Negativas (0): 5.44%\n",
            "Votos Útiles (Media): 0.04\n",
            "Votos Totales (Media): 0.07\n",
            "Reseñas de Ejemplo:\n",
            "  - Worked Well In My Phone. It went into my phone and stores my pictures well.  I just take it out and plug it into my laptop and transfer pictures....\n",
            "  - works perfectly. fast and easy to use.  It does exactly what a class 10 is supposed to do.  using in a Samsung tab 3....\n",
            "  - Does the job. This product works as described.  It's just not super quick.  I would recommend this product, especially, if you get it on sale....\n",
            "  - Just what I needed. What can I say about it works as promised and just what I needed for my new cell phone  what more do you need...\n",
            "  - Works for the Samsung Galaxy SIII. Bought it for my phone, a Samsung Galaxy SIII. Seems to work just fine. Not much else to say. It does what it is suppose to do....\n"
          ]
        }
      ]
    },
    {
      "cell_type": "markdown",
      "id": "d4d51cd5",
      "metadata": {
        "id": "d4d51cd5"
      },
      "source": [
        "### 7. Insight & Recomendaciones (15 pts)"
      ]
    },
    {
      "cell_type": "markdown",
      "id": "ccca05a5",
      "metadata": {
        "id": "ccca05a5"
      },
      "source": [
        "*Escribe aquí tu análisis de cómo se relacionan los errores del modelo con los clusters y propone 1‑2 acciones de negocio basadas en tus hallazgos.*\n",
        "\n",
        "<!-- TODO -->"
      ]
    },
    {
      "cell_type": "markdown",
      "source": [
        "Los clústeres generados por K-means agrupan reseñas en función de la similitud de su contenido textual. Al cruzar esta información con los errores del modelo de clasificación (Logistic Regression), podemos identificar si hay tipos específicos de reseñas (representadas por ciertos clústeres) donde el modelo tiende a fallar más a menudo (falsos positivos o falsos negativos).\n",
        "\n",
        "**Análisis de la Relación entre Errores y Clústeres:**\n",
        "\n",
        "1.  **Falsos Positivos (FP):** Son reseñas que el modelo clasificó como positivas (≥4 estrellas) pero que en realidad eran negativas (<4 estrellas). Si un clúster específico tiene una proporción significativamente alta de FP, sugiere que las reseñas en ese clúster tienen características textuales que \"engañan\" al modelo para que las considere positivas, a pesar de tener una calificación baja. Esto podría deberse a:\n",
        "    *   Lenguaje sarcástico o irónico.\n",
        "    *   Reseñas que empiezan muy positivas pero terminan con una queja importante.\n",
        "    *   Reseñas que mencionan aspectos positivos pero dan una calificación baja por un solo factor negativo crucial.\n",
        "2.  **Falsos Negativos (FN):** Son reseñas que el modelo clasificó como negativas (<4 estrellas) pero que en realidad eran positivas (≥4 estrellas). Si un clúster muestra una alta tasa de FN, indica que las reseñas allí tienen características textuales que hacen que el modelo las considere negativas, a pesar de tener una calificación alta. Esto podría ser causado por:\n",
        "    *   Reseñas positivas que usan un lenguaje muy crítico o detallado sobre aspectos menores (constructive feedback).\n",
        "    *   Reseñas cortas o poco descriptivas que no dan suficientes pistas al modelo.\n",
        "    *   Reseñas que usan lenguaje técnico o jerga específica del producto/dominio que el TF-IDF y la regresión logística no capturan bien.\n",
        "\n",
        "Para realizar este análisis a fondo, necesitaríamos cruzar las predicciones del modelo (`y_pred`) con las etiquetas verdaderas (`y_test`) y las asignaciones de clúster (`df['cluster']`). Se podría calcular la tasa de FP y FN para cada clúster utilizando el conjunto de prueba.\n",
        "\n",
        "**Propuesta de Acciones de Negocio:**\n",
        "\n",
        "Basándonos en los hallazgos del análisis de errores por clúster:\n",
        "\n",
        "1.  **Mejorar la Atención al Cliente y la Gestión de Reseñas en Clústeres con Altos FP:**\n",
        "    *   **Hallazgo Potencial:** Supongamos que el Clúster X (caracterizado por reseñas que comienzan positivas pero terminan negativas, identificadas al perfilar el clúster) tiene una alta tasa de Falsos Positivos. Esto significa que el modelo cree que son buenas reseñas, pero el cliente estaba insatisfecho.\n",
        "    *   **Acción de Negocio:** Este clúster representa clientes que podrían sentirse frustrados porque sus problemas no son obvios a primera vista en su reseña. Se podría implementar un proceso de revisión manual prioritaria para las reseñas clasificadas por el modelo como positivas pero que caen en Clúster X. El equipo de atención al cliente podría contactar proactivamente a estos clientes para entender mejor su problema y ofrecer soluciones, convirtiendo una experiencia negativa (o agridulce) en una oportunidad de retención y mejora del producto/servicio.\n",
        "2.  **Refinar la Recopilación de Feedback y las Características del Producto en Clústeres con Altos FN:**\n",
        "    *   **Hallazgo Potencial:** Imaginemos que el Clúster Y (compuesto por reseñas muy técnicas o detalladas, identificadas al perfilar el clúster) tiene una alta tasa de Falsos Negativos. Esto indica que hay clientes satisfechos con calificaciones altas, pero el modelo los cataloga como negativos.\n",
        "    *   **Acción de Negocio:** Las reseñas en Clúster Y, a pesar de ser positivas, podrían contener feedback muy valioso y específico que no se está destacando adecuadamente (ya que el modelo las \"ignora\" al clasificarlas como negativas). La empresa podría:\n",
        "        *   Analizar manualmente el texto de las reseñas en este clúster para identificar temas recurrentes (por ejemplo, menciones a una característica técnica específica que agrada a los usuarios avanzados).\n",
        "        *   Utilizar este feedback detallado para guiar mejoras de productos o desarrollar nuevas características.\n",
        "        *   Considerar la creación de encuestas de satisfacción post-compra más detalladas o específicas para usuarios avanzados que capturen este tipo de feedback técnico de manera más estructurada.\n",
        "\n",
        "En resumen, al entender qué tipos de reseñas (clústeres) causan errores específicos en el modelo, una empresa puede pasar de un enfoque general de \"gestión de reseñas\" a acciones de negocio más dirigidas y basadas en datos, abordando las causas raíz de la insatisfacción o extrayendo insights valiosos de clientes satisfechos cuyo feedback no estaba siendo capturado eficazmente por el modelo inicial."
      ],
      "metadata": {
        "id": "_89rdOzp32QS"
      },
      "id": "_89rdOzp32QS"
    },
    {
      "cell_type": "markdown",
      "id": "e3023398",
      "metadata": {
        "id": "e3023398"
      },
      "source": [
        "## ✅ 8. Checklist final\n",
        "- [ ] Notebook corre sin errores\n",
        "- [ ] Respuestas teóricas completadas\n",
        "- [ ] Comentarios claros y semillas fijas\n",
        "- [ ] 5 slides creadas y exportadas a PDF\n"
      ]
    }
  ],
  "metadata": {
    "language_info": {
      "name": "python"
    },
    "colab": {
      "provenance": []
    },
    "kernelspec": {
      "name": "python3",
      "display_name": "Python 3"
    }
  },
  "nbformat": 4,
  "nbformat_minor": 5
}