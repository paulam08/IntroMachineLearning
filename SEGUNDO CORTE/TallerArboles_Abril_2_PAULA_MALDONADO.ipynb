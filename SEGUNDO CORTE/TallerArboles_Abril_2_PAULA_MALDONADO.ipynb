{
  "cells": [
    {
      "cell_type": "markdown",
      "id": "step-1",
      "metadata": {
        "id": "step-1"
      },
      "source": [
        "# Taller Interactivo: Árboles de Decisión y Evaluación de Modelos\n",
        "\n",
        "## Caso de Estudio: Social_Network_Ads\n",
        "\n",
        "Este taller profesional se centra en la construcción, interpretación y evaluación de un modelo de Árbol de Decisión utilizando el dataset _Social_Network_Ads_. Se evaluarán aspectos técnicos y se comparará el desempeño con un modelo de Regresión Logística, analizando métricas de evaluación y posibles indicadores de sobreajuste."
      ]
    },
    {
      "cell_type": "markdown",
      "id": "step-2",
      "metadata": {
        "id": "step-2"
      },
      "source": [
        "## 2. Objetivos del Taller\n",
        "\n",
        "En este taller se pretende:\n",
        "- Comprender los fundamentos teóricos de los árboles de decisión.\n",
        "- Realizar un análisis exploratorio y revisión de datos.\n",
        "- Aplicar la estratificación en el particionado de datos.\n",
        "- Entrenar y evaluar un modelo de Árbol de Decisión.\n",
        "- Visualizar y analizar la matriz de confusión y la curva ROC.\n",
        "- Ajustar el modelo para controlar la complejidad y el sobreajuste.\n",
        "- Promover el análisis crítico de los resultados obtenidos."
      ]
    },
    {
      "cell_type": "markdown",
      "id": "step-3",
      "metadata": {
        "id": "step-3"
      },
      "source": [
        "## 3. Carga del Dataset y Primer Análisis\n",
        "\n",
        "En esta sección se carga el dataset _Social_Network_Ads_ desde una URL y se visualizan las primeras filas y la información general. Esto permitirá conocer la estructura de los datos y los tipos de variables presentes."
      ]
    },
    {
      "cell_type": "code",
      "source": [
        "!wget https://raw.githubusercontent.com/javierherrera1996/lecture_analytics/main/datasets/Social_Network_Ads.csv"
      ],
      "metadata": {
        "colab": {
          "base_uri": "https://localhost:8080/"
        },
        "id": "_Amg1MmFH3vT",
        "outputId": "80b9d9a2-511d-4461-be2d-11233480939c"
      },
      "id": "_Amg1MmFH3vT",
      "execution_count": null,
      "outputs": [
        {
          "output_type": "stream",
          "name": "stdout",
          "text": [
            "--2025-04-02 20:37:00--  https://raw.githubusercontent.com/javierherrera1996/lecture_analytics/main/datasets/Social_Network_Ads.csv\n",
            "Resolving raw.githubusercontent.com (raw.githubusercontent.com)... 185.199.110.133, 185.199.109.133, 185.199.108.133, ...\n",
            "Connecting to raw.githubusercontent.com (raw.githubusercontent.com)|185.199.110.133|:443... connected.\n",
            "HTTP request sent, awaiting response... 200 OK\n",
            "Length: 10926 (11K) [text/plain]\n",
            "Saving to: ‘Social_Network_Ads.csv’\n",
            "\n",
            "Social_Network_Ads. 100%[===================>]  10.67K  --.-KB/s    in 0.002s  \n",
            "\n",
            "2025-04-02 20:37:01 (6.72 MB/s) - ‘Social_Network_Ads.csv’ saved [10926/10926]\n",
            "\n"
          ]
        }
      ]
    },
    {
      "cell_type": "code",
      "execution_count": null,
      "id": "code-carga-dataset",
      "metadata": {
        "id": "code-carga-dataset"
      },
      "outputs": [],
      "source": [
        "import pandas as pd\n",
        "import seaborn as sns\n",
        "import matplotlib.pyplot as plt\n",
        "\n",
        "\n",
        "\n"
      ]
    },
    {
      "cell_type": "code",
      "source": [
        "# Mostrar las primeras filas\n",
        "df = pd.read_csv('Social_Network_Ads.csv')\n",
        "df.head()\n"
      ],
      "metadata": {
        "id": "H5GXHl4kH9NZ",
        "colab": {
          "base_uri": "https://localhost:8080/",
          "height": 206
        },
        "outputId": "a0f923c8-6ede-4f0d-ed13-348fd893a216"
      },
      "id": "H5GXHl4kH9NZ",
      "execution_count": null,
      "outputs": [
        {
          "output_type": "execute_result",
          "data": {
            "text/plain": [
              "    User ID  Gender  Age  EstimatedSalary  Purchased\n",
              "0  15624510    Male   19            19000          0\n",
              "1  15810944    Male   35            20000          0\n",
              "2  15668575  Female   26            43000          0\n",
              "3  15603246  Female   27            57000          0\n",
              "4  15804002    Male   19            76000          0"
            ],
            "text/html": [
              "\n",
              "  <div id=\"df-a2c68986-6f6b-42a2-a323-3d01452c94f9\" class=\"colab-df-container\">\n",
              "    <div>\n",
              "<style scoped>\n",
              "    .dataframe tbody tr th:only-of-type {\n",
              "        vertical-align: middle;\n",
              "    }\n",
              "\n",
              "    .dataframe tbody tr th {\n",
              "        vertical-align: top;\n",
              "    }\n",
              "\n",
              "    .dataframe thead th {\n",
              "        text-align: right;\n",
              "    }\n",
              "</style>\n",
              "<table border=\"1\" class=\"dataframe\">\n",
              "  <thead>\n",
              "    <tr style=\"text-align: right;\">\n",
              "      <th></th>\n",
              "      <th>User ID</th>\n",
              "      <th>Gender</th>\n",
              "      <th>Age</th>\n",
              "      <th>EstimatedSalary</th>\n",
              "      <th>Purchased</th>\n",
              "    </tr>\n",
              "  </thead>\n",
              "  <tbody>\n",
              "    <tr>\n",
              "      <th>0</th>\n",
              "      <td>15624510</td>\n",
              "      <td>Male</td>\n",
              "      <td>19</td>\n",
              "      <td>19000</td>\n",
              "      <td>0</td>\n",
              "    </tr>\n",
              "    <tr>\n",
              "      <th>1</th>\n",
              "      <td>15810944</td>\n",
              "      <td>Male</td>\n",
              "      <td>35</td>\n",
              "      <td>20000</td>\n",
              "      <td>0</td>\n",
              "    </tr>\n",
              "    <tr>\n",
              "      <th>2</th>\n",
              "      <td>15668575</td>\n",
              "      <td>Female</td>\n",
              "      <td>26</td>\n",
              "      <td>43000</td>\n",
              "      <td>0</td>\n",
              "    </tr>\n",
              "    <tr>\n",
              "      <th>3</th>\n",
              "      <td>15603246</td>\n",
              "      <td>Female</td>\n",
              "      <td>27</td>\n",
              "      <td>57000</td>\n",
              "      <td>0</td>\n",
              "    </tr>\n",
              "    <tr>\n",
              "      <th>4</th>\n",
              "      <td>15804002</td>\n",
              "      <td>Male</td>\n",
              "      <td>19</td>\n",
              "      <td>76000</td>\n",
              "      <td>0</td>\n",
              "    </tr>\n",
              "  </tbody>\n",
              "</table>\n",
              "</div>\n",
              "    <div class=\"colab-df-buttons\">\n",
              "\n",
              "  <div class=\"colab-df-container\">\n",
              "    <button class=\"colab-df-convert\" onclick=\"convertToInteractive('df-a2c68986-6f6b-42a2-a323-3d01452c94f9')\"\n",
              "            title=\"Convert this dataframe to an interactive table.\"\n",
              "            style=\"display:none;\">\n",
              "\n",
              "  <svg xmlns=\"http://www.w3.org/2000/svg\" height=\"24px\" viewBox=\"0 -960 960 960\">\n",
              "    <path d=\"M120-120v-720h720v720H120Zm60-500h600v-160H180v160Zm220 220h160v-160H400v160Zm0 220h160v-160H400v160ZM180-400h160v-160H180v160Zm440 0h160v-160H620v160ZM180-180h160v-160H180v160Zm440 0h160v-160H620v160Z\"/>\n",
              "  </svg>\n",
              "    </button>\n",
              "\n",
              "  <style>\n",
              "    .colab-df-container {\n",
              "      display:flex;\n",
              "      gap: 12px;\n",
              "    }\n",
              "\n",
              "    .colab-df-convert {\n",
              "      background-color: #E8F0FE;\n",
              "      border: none;\n",
              "      border-radius: 50%;\n",
              "      cursor: pointer;\n",
              "      display: none;\n",
              "      fill: #1967D2;\n",
              "      height: 32px;\n",
              "      padding: 0 0 0 0;\n",
              "      width: 32px;\n",
              "    }\n",
              "\n",
              "    .colab-df-convert:hover {\n",
              "      background-color: #E2EBFA;\n",
              "      box-shadow: 0px 1px 2px rgba(60, 64, 67, 0.3), 0px 1px 3px 1px rgba(60, 64, 67, 0.15);\n",
              "      fill: #174EA6;\n",
              "    }\n",
              "\n",
              "    .colab-df-buttons div {\n",
              "      margin-bottom: 4px;\n",
              "    }\n",
              "\n",
              "    [theme=dark] .colab-df-convert {\n",
              "      background-color: #3B4455;\n",
              "      fill: #D2E3FC;\n",
              "    }\n",
              "\n",
              "    [theme=dark] .colab-df-convert:hover {\n",
              "      background-color: #434B5C;\n",
              "      box-shadow: 0px 1px 3px 1px rgba(0, 0, 0, 0.15);\n",
              "      filter: drop-shadow(0px 1px 2px rgba(0, 0, 0, 0.3));\n",
              "      fill: #FFFFFF;\n",
              "    }\n",
              "  </style>\n",
              "\n",
              "    <script>\n",
              "      const buttonEl =\n",
              "        document.querySelector('#df-a2c68986-6f6b-42a2-a323-3d01452c94f9 button.colab-df-convert');\n",
              "      buttonEl.style.display =\n",
              "        google.colab.kernel.accessAllowed ? 'block' : 'none';\n",
              "\n",
              "      async function convertToInteractive(key) {\n",
              "        const element = document.querySelector('#df-a2c68986-6f6b-42a2-a323-3d01452c94f9');\n",
              "        const dataTable =\n",
              "          await google.colab.kernel.invokeFunction('convertToInteractive',\n",
              "                                                    [key], {});\n",
              "        if (!dataTable) return;\n",
              "\n",
              "        const docLinkHtml = 'Like what you see? Visit the ' +\n",
              "          '<a target=\"_blank\" href=https://colab.research.google.com/notebooks/data_table.ipynb>data table notebook</a>'\n",
              "          + ' to learn more about interactive tables.';\n",
              "        element.innerHTML = '';\n",
              "        dataTable['output_type'] = 'display_data';\n",
              "        await google.colab.output.renderOutput(dataTable, element);\n",
              "        const docLink = document.createElement('div');\n",
              "        docLink.innerHTML = docLinkHtml;\n",
              "        element.appendChild(docLink);\n",
              "      }\n",
              "    </script>\n",
              "  </div>\n",
              "\n",
              "\n",
              "<div id=\"df-8bd39c2c-4b3b-4408-b986-8ed51454dc1e\">\n",
              "  <button class=\"colab-df-quickchart\" onclick=\"quickchart('df-8bd39c2c-4b3b-4408-b986-8ed51454dc1e')\"\n",
              "            title=\"Suggest charts\"\n",
              "            style=\"display:none;\">\n",
              "\n",
              "<svg xmlns=\"http://www.w3.org/2000/svg\" height=\"24px\"viewBox=\"0 0 24 24\"\n",
              "     width=\"24px\">\n",
              "    <g>\n",
              "        <path d=\"M19 3H5c-1.1 0-2 .9-2 2v14c0 1.1.9 2 2 2h14c1.1 0 2-.9 2-2V5c0-1.1-.9-2-2-2zM9 17H7v-7h2v7zm4 0h-2V7h2v10zm4 0h-2v-4h2v4z\"/>\n",
              "    </g>\n",
              "</svg>\n",
              "  </button>\n",
              "\n",
              "<style>\n",
              "  .colab-df-quickchart {\n",
              "      --bg-color: #E8F0FE;\n",
              "      --fill-color: #1967D2;\n",
              "      --hover-bg-color: #E2EBFA;\n",
              "      --hover-fill-color: #174EA6;\n",
              "      --disabled-fill-color: #AAA;\n",
              "      --disabled-bg-color: #DDD;\n",
              "  }\n",
              "\n",
              "  [theme=dark] .colab-df-quickchart {\n",
              "      --bg-color: #3B4455;\n",
              "      --fill-color: #D2E3FC;\n",
              "      --hover-bg-color: #434B5C;\n",
              "      --hover-fill-color: #FFFFFF;\n",
              "      --disabled-bg-color: #3B4455;\n",
              "      --disabled-fill-color: #666;\n",
              "  }\n",
              "\n",
              "  .colab-df-quickchart {\n",
              "    background-color: var(--bg-color);\n",
              "    border: none;\n",
              "    border-radius: 50%;\n",
              "    cursor: pointer;\n",
              "    display: none;\n",
              "    fill: var(--fill-color);\n",
              "    height: 32px;\n",
              "    padding: 0;\n",
              "    width: 32px;\n",
              "  }\n",
              "\n",
              "  .colab-df-quickchart:hover {\n",
              "    background-color: var(--hover-bg-color);\n",
              "    box-shadow: 0 1px 2px rgba(60, 64, 67, 0.3), 0 1px 3px 1px rgba(60, 64, 67, 0.15);\n",
              "    fill: var(--button-hover-fill-color);\n",
              "  }\n",
              "\n",
              "  .colab-df-quickchart-complete:disabled,\n",
              "  .colab-df-quickchart-complete:disabled:hover {\n",
              "    background-color: var(--disabled-bg-color);\n",
              "    fill: var(--disabled-fill-color);\n",
              "    box-shadow: none;\n",
              "  }\n",
              "\n",
              "  .colab-df-spinner {\n",
              "    border: 2px solid var(--fill-color);\n",
              "    border-color: transparent;\n",
              "    border-bottom-color: var(--fill-color);\n",
              "    animation:\n",
              "      spin 1s steps(1) infinite;\n",
              "  }\n",
              "\n",
              "  @keyframes spin {\n",
              "    0% {\n",
              "      border-color: transparent;\n",
              "      border-bottom-color: var(--fill-color);\n",
              "      border-left-color: var(--fill-color);\n",
              "    }\n",
              "    20% {\n",
              "      border-color: transparent;\n",
              "      border-left-color: var(--fill-color);\n",
              "      border-top-color: var(--fill-color);\n",
              "    }\n",
              "    30% {\n",
              "      border-color: transparent;\n",
              "      border-left-color: var(--fill-color);\n",
              "      border-top-color: var(--fill-color);\n",
              "      border-right-color: var(--fill-color);\n",
              "    }\n",
              "    40% {\n",
              "      border-color: transparent;\n",
              "      border-right-color: var(--fill-color);\n",
              "      border-top-color: var(--fill-color);\n",
              "    }\n",
              "    60% {\n",
              "      border-color: transparent;\n",
              "      border-right-color: var(--fill-color);\n",
              "    }\n",
              "    80% {\n",
              "      border-color: transparent;\n",
              "      border-right-color: var(--fill-color);\n",
              "      border-bottom-color: var(--fill-color);\n",
              "    }\n",
              "    90% {\n",
              "      border-color: transparent;\n",
              "      border-bottom-color: var(--fill-color);\n",
              "    }\n",
              "  }\n",
              "</style>\n",
              "\n",
              "  <script>\n",
              "    async function quickchart(key) {\n",
              "      const quickchartButtonEl =\n",
              "        document.querySelector('#' + key + ' button');\n",
              "      quickchartButtonEl.disabled = true;  // To prevent multiple clicks.\n",
              "      quickchartButtonEl.classList.add('colab-df-spinner');\n",
              "      try {\n",
              "        const charts = await google.colab.kernel.invokeFunction(\n",
              "            'suggestCharts', [key], {});\n",
              "      } catch (error) {\n",
              "        console.error('Error during call to suggestCharts:', error);\n",
              "      }\n",
              "      quickchartButtonEl.classList.remove('colab-df-spinner');\n",
              "      quickchartButtonEl.classList.add('colab-df-quickchart-complete');\n",
              "    }\n",
              "    (() => {\n",
              "      let quickchartButtonEl =\n",
              "        document.querySelector('#df-8bd39c2c-4b3b-4408-b986-8ed51454dc1e button');\n",
              "      quickchartButtonEl.style.display =\n",
              "        google.colab.kernel.accessAllowed ? 'block' : 'none';\n",
              "    })();\n",
              "  </script>\n",
              "</div>\n",
              "\n",
              "    </div>\n",
              "  </div>\n"
            ],
            "application/vnd.google.colaboratory.intrinsic+json": {
              "type": "dataframe",
              "variable_name": "df",
              "summary": "{\n  \"name\": \"df\",\n  \"rows\": 400,\n  \"fields\": [\n    {\n      \"column\": \"User ID\",\n      \"properties\": {\n        \"dtype\": \"number\",\n        \"std\": 71658,\n        \"min\": 15566689,\n        \"max\": 15815236,\n        \"num_unique_values\": 400,\n        \"samples\": [\n          15697424,\n          15609669,\n          15776733\n        ],\n        \"semantic_type\": \"\",\n        \"description\": \"\"\n      }\n    },\n    {\n      \"column\": \"Gender\",\n      \"properties\": {\n        \"dtype\": \"category\",\n        \"num_unique_values\": 2,\n        \"samples\": [\n          \"Female\",\n          \"Male\"\n        ],\n        \"semantic_type\": \"\",\n        \"description\": \"\"\n      }\n    },\n    {\n      \"column\": \"Age\",\n      \"properties\": {\n        \"dtype\": \"number\",\n        \"std\": 10,\n        \"min\": 18,\n        \"max\": 60,\n        \"num_unique_values\": 43,\n        \"samples\": [\n          50,\n          39\n        ],\n        \"semantic_type\": \"\",\n        \"description\": \"\"\n      }\n    },\n    {\n      \"column\": \"EstimatedSalary\",\n      \"properties\": {\n        \"dtype\": \"number\",\n        \"std\": 34096,\n        \"min\": 15000,\n        \"max\": 150000,\n        \"num_unique_values\": 117,\n        \"samples\": [\n          117000,\n          76000\n        ],\n        \"semantic_type\": \"\",\n        \"description\": \"\"\n      }\n    },\n    {\n      \"column\": \"Purchased\",\n      \"properties\": {\n        \"dtype\": \"number\",\n        \"std\": 0,\n        \"min\": 0,\n        \"max\": 1,\n        \"num_unique_values\": 2,\n        \"samples\": [\n          1,\n          0\n        ],\n        \"semantic_type\": \"\",\n        \"description\": \"\"\n      }\n    }\n  ]\n}"
            }
          },
          "metadata": {},
          "execution_count": 7
        }
      ]
    },
    {
      "cell_type": "code",
      "source": [
        "# Información general del dataset\n",
        "df.info()"
      ],
      "metadata": {
        "id": "sijKo-poH-wn",
        "colab": {
          "base_uri": "https://localhost:8080/"
        },
        "outputId": "fc9377b6-415e-41b6-eefc-9c69dc9cb532"
      },
      "id": "sijKo-poH-wn",
      "execution_count": null,
      "outputs": [
        {
          "output_type": "stream",
          "name": "stdout",
          "text": [
            "<class 'pandas.core.frame.DataFrame'>\n",
            "RangeIndex: 400 entries, 0 to 399\n",
            "Data columns (total 5 columns):\n",
            " #   Column           Non-Null Count  Dtype \n",
            "---  ------           --------------  ----- \n",
            " 0   User ID          400 non-null    int64 \n",
            " 1   Gender           400 non-null    object\n",
            " 2   Age              400 non-null    int64 \n",
            " 3   EstimatedSalary  400 non-null    int64 \n",
            " 4   Purchased        400 non-null    int64 \n",
            "dtypes: int64(4), object(1)\n",
            "memory usage: 15.8+ KB\n"
          ]
        }
      ]
    },
    {
      "cell_type": "markdown",
      "id": "step-4",
      "metadata": {
        "id": "step-4"
      },
      "source": [
        "## 4. Revisión de Variables y Tipos de Datos\n",
        "\n",
        "Examina las variables del dataset y discute brevemente el significado de cada una. Reflexiona sobre la relevancia de cada variable para el análisis y el modelado."
      ]
    },
    {
      "cell_type": "markdown",
      "source": [
        "User ID Identificador único del usuario.\n",
        "\n",
        "Relevancia: No aporta información predictiva, pero puede usarse para seguimiento individual. Generalmente se excluye en modelos de ML.\n",
        "\n",
        "Gender (Género) Variable categórica (Male/Female) que indica el género del usuario.\n",
        "\n",
        "Relevancia: Puede ser útil si existen diferencias en el comportamiento de compra por género. Sin embargo, en muchos casos, el género no es un predictor fuerte y podría eliminarse para evitar sesgos.\n",
        "\n",
        "Age (Edad) Variable numérica que representa la edad del usuario.\n",
        "\n",
        "Relevancia: Muy relevante, ya que la edad suele correlacionarse con el comportamiento de compra (ejemplo: usuarios jóvenes vs. mayores pueden responder distinto a anuncios).\n",
        "\n",
        "EstimatedSalary (Salario Estimado) Variable numérica que indica el ingreso estimado del usuario.\n",
        "\n",
        "Relevancia: Importante, ya que el poder adquisitivo influye en la decisión de compra. Puede ser un predictor clave junto con la edad.\n",
        "\n",
        "Purchased (Compró) Variable binaria (0 = No compró, 1 = Compró).\n",
        "\n",
        "Relevancia: El objetivo del modelo sería predecir si un usuario comprará o no basándose en las demás variables."
      ],
      "metadata": {
        "id": "0SwJqh9ck2fu"
      },
      "id": "0SwJqh9ck2fu"
    },
    {
      "cell_type": "markdown",
      "source": [],
      "metadata": {
        "id": "FkzkDFjVlAAY"
      },
      "id": "FkzkDFjVlAAY"
    },
    {
      "cell_type": "markdown",
      "id": "step-5",
      "metadata": {
        "id": "step-5"
      },
      "source": [
        "## 5. Visualización de la Distribución de la Variable Objetivo\n",
        "\n",
        "Visualiza la distribución de la variable `Purchased` usando un gráfico de barras. Esto permitirá identificar si existe un balance entre las clases.\n",
        "\n",
        "**Pregunta para el grupo:**\n",
        "- ¿La variable `Purchased` se encuentra balanceada? ¿Qué implicaciones podría tener un desequilibrio en la modelación?"
      ]
    },
    {
      "cell_type": "code",
      "source": [
        "plt.figure(figsize=(6, 4))\n",
        "sns.countplot(x='Purchased', data=df, palette=['skyblue', 'salmon'])\n",
        "plt.title('Distribución de la variable Purchased', fontweight='bold')\n",
        "plt.xlabel('Purchased (0 = No, 1 = Sí)', fontsize=10)\n",
        "plt.ylabel('Cantidad de usuarios', fontsize=10)\n",
        "plt.show()"
      ],
      "metadata": {
        "colab": {
          "base_uri": "https://localhost:8080/",
          "height": 211
        },
        "id": "mgiyd-I1Qxsi",
        "outputId": "c4c197d6-b7a8-4157-9d00-0a5afb50fa84"
      },
      "id": "mgiyd-I1Qxsi",
      "execution_count": 1,
      "outputs": [
        {
          "output_type": "error",
          "ename": "NameError",
          "evalue": "name 'plt' is not defined",
          "traceback": [
            "\u001b[0;31m---------------------------------------------------------------------------\u001b[0m",
            "\u001b[0;31mNameError\u001b[0m                                 Traceback (most recent call last)",
            "\u001b[0;32m<ipython-input-1-1cf8a8c24514>\u001b[0m in \u001b[0;36m<cell line: 0>\u001b[0;34m()\u001b[0m\n\u001b[0;32m----> 1\u001b[0;31m \u001b[0mplt\u001b[0m\u001b[0;34m.\u001b[0m\u001b[0mfigure\u001b[0m\u001b[0;34m(\u001b[0m\u001b[0mfigsize\u001b[0m\u001b[0;34m=\u001b[0m\u001b[0;34m(\u001b[0m\u001b[0;36m6\u001b[0m\u001b[0;34m,\u001b[0m \u001b[0;36m4\u001b[0m\u001b[0;34m)\u001b[0m\u001b[0;34m)\u001b[0m\u001b[0;34m\u001b[0m\u001b[0;34m\u001b[0m\u001b[0m\n\u001b[0m\u001b[1;32m      2\u001b[0m \u001b[0msns\u001b[0m\u001b[0;34m.\u001b[0m\u001b[0mcountplot\u001b[0m\u001b[0;34m(\u001b[0m\u001b[0mx\u001b[0m\u001b[0;34m=\u001b[0m\u001b[0;34m'Purchased'\u001b[0m\u001b[0;34m,\u001b[0m \u001b[0mdata\u001b[0m\u001b[0;34m=\u001b[0m\u001b[0mdf\u001b[0m\u001b[0;34m,\u001b[0m \u001b[0mpalette\u001b[0m\u001b[0;34m=\u001b[0m\u001b[0;34m[\u001b[0m\u001b[0;34m'skyblue'\u001b[0m\u001b[0;34m,\u001b[0m \u001b[0;34m'salmon'\u001b[0m\u001b[0;34m]\u001b[0m\u001b[0;34m)\u001b[0m\u001b[0;34m\u001b[0m\u001b[0;34m\u001b[0m\u001b[0m\n\u001b[1;32m      3\u001b[0m \u001b[0mplt\u001b[0m\u001b[0;34m.\u001b[0m\u001b[0mtitle\u001b[0m\u001b[0;34m(\u001b[0m\u001b[0;34m'Distribución de la variable Purchased'\u001b[0m\u001b[0;34m,\u001b[0m \u001b[0mfontweight\u001b[0m\u001b[0;34m=\u001b[0m\u001b[0;34m'bold'\u001b[0m\u001b[0;34m)\u001b[0m\u001b[0;34m\u001b[0m\u001b[0;34m\u001b[0m\u001b[0m\n\u001b[1;32m      4\u001b[0m \u001b[0mplt\u001b[0m\u001b[0;34m.\u001b[0m\u001b[0mxlabel\u001b[0m\u001b[0;34m(\u001b[0m\u001b[0;34m'Purchased (0 = No, 1 = Sí)'\u001b[0m\u001b[0;34m,\u001b[0m \u001b[0mfontsize\u001b[0m\u001b[0;34m=\u001b[0m\u001b[0;36m10\u001b[0m\u001b[0;34m)\u001b[0m\u001b[0;34m\u001b[0m\u001b[0;34m\u001b[0m\u001b[0m\n\u001b[1;32m      5\u001b[0m \u001b[0mplt\u001b[0m\u001b[0;34m.\u001b[0m\u001b[0mylabel\u001b[0m\u001b[0;34m(\u001b[0m\u001b[0;34m'Cantidad de usuarios'\u001b[0m\u001b[0;34m,\u001b[0m \u001b[0mfontsize\u001b[0m\u001b[0;34m=\u001b[0m\u001b[0;36m10\u001b[0m\u001b[0;34m)\u001b[0m\u001b[0;34m\u001b[0m\u001b[0;34m\u001b[0m\u001b[0m\n",
            "\u001b[0;31mNameError\u001b[0m: name 'plt' is not defined"
          ]
        }
      ]
    },
    {
      "cell_type": "markdown",
      "source": [
        "Las variable no estan baleanceadas, existe un sesgo hacia la clase mayoritaria:\n",
        "El modelo puede aprender a predecir siempre la clase dominante (ejemplo: \"No compró\") para maximizar la precisión (accuracy), ignorando la clase minoritaria."
      ],
      "metadata": {
        "id": "VxAuLn-zSmih"
      },
      "id": "VxAuLn-zSmih"
    },
    {
      "cell_type": "markdown",
      "id": "step-6",
      "metadata": {
        "id": "step-6"
      },
      "source": [
        "## 6. Análisis de la Distribución y Reflexión\n",
        "\n",
        "Discute la distribución observada. Reflexiona sobre cómo un posible desbalance podría afectar la performance del modelo y qué estrategias se podrían utilizar para mitigarlo (por ejemplo, SMOTE en otros casos)."
      ]
    },
    {
      "cell_type": "markdown",
      "source": [
        "El gráfico de barras muestra la distribución de la variable objetivo \"Purchased\".  \n",
        "Se observa un desequilibrio en las clases, con una mayor cantidad de usuarios que no compraron (clase 0) en comparación con aquellos que sí lo hicieron (clase 1). Impacto de un posible desbalance en la performance del modelo:\n",
        "Un conjunto de datos desequilibrado puede llevar a que el modelo se sesgue hacia la clase mayoritaria.\n",
        "Es decir, el modelo podría aprender a predecir la clase \"No compró\" con alta precisión simplemente porque es la más frecuente.\n",
        "Como consecuencia, la precisión (accuracy) podría ser alta, pero el modelo no sería útil para identificar correctamente a los usuarios que sí compran (clase minoritaria).\n",
        "Métricas como la precisión, la exhaustividad y el valor F1 ofrecen una imagen más completa del desempeño del modelo en presencia de desequilibrios, resultando mejores métricas que el accuracy.\n",
        "El modelo tendrá una alta tasa de verdaderos negativos (predecir correctamente que no compraron) y baja tasa de verdaderos positivos (predecir correctamente que sí compraron).\n",
        "En consecuencia, la capacidad predictiva del modelo para la clase minoritaria (\"compró\") será baja, y no será confiable para la toma de decisiones en relación con esa clase.\n",
        "Concretamente, el modelo podría ser impreciso en predecir la clase minoritaria, afectando su utilidad para acciones de marketing dirigidas a ese segmento.\n",
        "\n",
        "Estrategias para mitigar el desbalance:\n",
        "1. Re-muestreo:\n",
        "a. Sobremuestreo (Oversampling): Crear nuevas instancias sintéticas de la clase minoritaria para equilibrar las clases. SMOTE (Synthetic Minority Over-sampling Technique) es una técnica popular para esto.\n",
        "b. Submuestreo (Undersampling): Eliminar instancias aleatorias de la clase mayoritaria para reducir su tamaño.\n",
        "2. Técnicas de Costo: Asignar un mayor costo a los errores de clasificación de la clase minoritaria durante el entrenamiento, incentivando al modelo a prestar mayor atención a esta clase.\n",
        "3. Algoritmos específicos: Utilizar algoritmos de aprendizaje automático que sean robustos ante datos desequilibrados, como los basados en boosting o Random Forests, con parámetros que favorecen el desempeño en la clase minoritaria.\n",
        "\n",
        "En este caso específico, se recomienda aplicar alguna técnica de sobremuestreo como SMOTE para generar instancias sintéticas de la clase minoritaria y así balancear el conjunto de datos antes de entrenar el modelo.\n",
        "\n",
        "También se deben evaluar otras métricas como precisión, exhaustividad (recall) y valor F1 para medir el rendimiento del modelo.\n"
      ],
      "metadata": {
        "id": "4LGjdhHfT6YJ"
      },
      "id": "4LGjdhHfT6YJ"
    },
    {
      "cell_type": "markdown",
      "source": [],
      "metadata": {
        "id": "liQkSY-PTz95"
      },
      "id": "liQkSY-PTz95"
    },
    {
      "cell_type": "markdown",
      "source": [],
      "metadata": {
        "id": "JyHiJ8VJIHeO"
      },
      "id": "JyHiJ8VJIHeO"
    },
    {
      "cell_type": "markdown",
      "id": "step-7",
      "metadata": {
        "id": "step-7"
      },
      "source": [
        "## 7. Selección de Variables para el Modelo\n",
        "\n",
        "Para este taller, se utilizarán las variables `Age` y `EstimatedSalary` como características para predecir `Purchased`.\n",
        "\n",
        "**Pregunta:**\n",
        "- ¿Por qué considerarían estas dos variables relevantes para predecir la compra?"
      ]
    },
    {
      "cell_type": "markdown",
      "source": [
        "Age y EstimatedSalary son relevantes porque:\n",
        "\n",
        "Capturan factores socioeconómicos y demográficos vinculados al comportamiento de compra.\n",
        "\n",
        "Son variables numéricas interpretables y procesables por modelos\n",
        "\n",
        "Su combinación permite identificar segmentos de usuarios con alta propensión a comprar (ejemplo: profesionales con salarios altos)."
      ],
      "metadata": {
        "id": "3jNMkK0hWjR5"
      },
      "id": "3jNMkK0hWjR5"
    },
    {
      "cell_type": "markdown",
      "source": [],
      "metadata": {
        "id": "Tqnp-UFoWQN5"
      },
      "id": "Tqnp-UFoWQN5"
    },
    {
      "cell_type": "markdown",
      "id": "step-8",
      "metadata": {
        "id": "step-8"
      },
      "source": [
        "## 8. División de Datos: Entrenamiento y Prueba\n",
        "\n",
        "Se dividirá el dataset en un 75% para entrenamiento y un 25% para prueba, aplicando estratificación para mantener la proporción de clases.\n",
        "\n",
        "**Pregunta:**\n",
        "- ¿Qué ventajas ofrece la estratificación al dividir el dataset?"
      ]
    },
    {
      "cell_type": "code",
      "execution_count": null,
      "id": "code-split",
      "metadata": {
        "id": "code-split"
      },
      "outputs": [],
      "source": [
        "from sklearn.model_selection import train_test_split\n",
        "X = df[['Age', 'EstimatedSalary']]\n",
        "y = df['Purchased']\n",
        "\n",
        "X_train, X_test, y_train, y_test = train_test_split(X, y, test_size=0.25, random_state=0, stratify=y)\n"
      ]
    },
    {
      "cell_type": "markdown",
      "source": [
        "La estratificación es esencial en problemas de clasificación con desbalance, ya que:\n",
        "\n",
        "Mantiene la integridad estadística de los datos.\n",
        "\n",
        "Permite una evaluación justa del modelo.\n",
        "\n",
        "Previene sesgos durante el entrenamiento."
      ],
      "metadata": {
        "id": "W1kP0bj_YFbI"
      },
      "id": "W1kP0bj_YFbI"
    },
    {
      "cell_type": "markdown",
      "id": "step-10",
      "metadata": {
        "id": "step-10"
      },
      "source": [
        "## 10. Evaluación del Modelo: Análisis de Métricas\n",
        "\n",
        "Analizaremos las métricas de evaluación obtenidas (exactitud, precisión, recall, F1-Score) y la matriz de confusión.\n",
        "\n",
        "**Pregunta:**\n",
        "- ¿Qué información específica nos aporta la matriz de confusión respecto a los errores del modelo?"
      ]
    },
    {
      "cell_type": "code",
      "source": [
        "\n",
        "from sklearn.tree import DecisionTreeClassifier\n",
        "from sklearn.metrics import classification_report, confusion_matrix\n",
        "import seaborn as sns\n",
        "import matplotlib.pyplot as plt\n",
        "classifier = DecisionTreeClassifier(criterion='entropy', random_state=0)\n",
        "classifier.fit(X_train, y_train)\n",
        "y_pred = classifier.predict(X_test)\n",
        "print(classification_report(y_test, y_pred))\n",
        "cm = confusion_matrix(y_test, y_pred)\n",
        "plt.figure(figsize=(8, 6))\n",
        "sns.heatmap(cm, annot=True, fmt='d', cmap='Blues',\n",
        "            xticklabels=['No compró', 'Compró'],\n",
        "            yticklabels=['No compró', 'Compró'])\n",
        "plt.xlabel('Predicción', fontsize=12)\n",
        "plt.ylabel('Valor Real', fontsize=12)\n",
        "plt.title('Matriz de Confusión', fontsize=14, fontweight='bold')\n",
        "plt.show()\n"
      ],
      "metadata": {
        "colab": {
          "base_uri": "https://localhost:8080/",
          "height": 726
        },
        "id": "3PvrrmS_ZImh",
        "outputId": "6244939c-8e65-4025-d970-974cce55c3fd"
      },
      "id": "3PvrrmS_ZImh",
      "execution_count": null,
      "outputs": [
        {
          "output_type": "stream",
          "name": "stdout",
          "text": [
            "              precision    recall  f1-score   support\n",
            "\n",
            "           0       0.89      0.86      0.87        64\n",
            "           1       0.76      0.81      0.78        36\n",
            "\n",
            "    accuracy                           0.84       100\n",
            "   macro avg       0.83      0.83      0.83       100\n",
            "weighted avg       0.84      0.84      0.84       100\n",
            "\n"
          ]
        },
        {
          "output_type": "display_data",
          "data": {
            "text/plain": [
              "<Figure size 800x600 with 2 Axes>"
            ],
            "image/png": "[encoded data removed]"
          },
          "metadata": {}
        }
      ]
    },
    {
      "cell_type": "markdown",
      "source": [
        "Falsos Positivos (FP)\n",
        "\n",
        "Qué son: Usuarios que no compraron, pero el modelo predijo que sí.\n",
        "\n",
        "Implicación:\n",
        "\n",
        "Costo económico: Si el modelo se usa para campañas publicitarias, esto derivaría en gastos innecesarios (ejemplo: enviar descuentos a quienes no los usarán).\n",
        "\n",
        "Falsos Negativos (FN)\n",
        "\n",
        "Qué son: Usuarios que sí compraron, pero el modelo predijo que no.\n",
        "\n",
        "Implicación:\n",
        "\n",
        "Pérdida de oportunidades: No se atiende a clientes potencialmente valiosos.\n",
        "\n",
        "Tasa de Error por Clase\n",
        "\n",
        "Para la clase 0 (No compró): Errores = FP / (FP + TN).\n",
        "\n",
        "Para la clase 1 (Compró): Errores = FN / (FN + TP)."
      ],
      "metadata": {
        "id": "k7qVscB-Z455"
      },
      "id": "k7qVscB-Z455"
    },
    {
      "cell_type": "markdown",
      "id": "step-13",
      "metadata": {
        "id": "step-13"
      },
      "source": [
        "## 13. Análisis Crítico del Modelo Inicial\n",
        "\n",
        "Revisa los resultados obtenidos en el modelo sin restricciones y discute:\n",
        "- ¿Existen indicios de sobreajuste? ¿Cómo se comparan las métricas entre entrenamiento y prueba?\n",
        "- ¿Qué mejoras se podrían implementar para optimizar la generalización del modelo?"
      ]
    },
    {
      "cell_type": "markdown",
      "id": "step-14",
      "metadata": {
        "id": "step-14"
      },
      "source": [
        "## 14. Ajuste del Modelo: Control de la Profundidad\n",
        "\n",
        "Entrena un segundo modelo de Árbol de Decisión limitando la profundidad (por ejemplo, `max_depth=5`) y evalúa su desempeño.\n",
        "\n",
        "**Pregunta:**\n",
        "- ¿Qué cambios se observan en las métricas al limitar la profundidad del árbol? ¿Cómo afecta esto a la capacidad del modelo de generalizar?"
      ]
    },
    {
      "cell_type": "code",
      "execution_count": null,
      "id": "code-ajuste-modelo",
      "metadata": {
        "id": "code-ajuste-modelo",
        "colab": {
          "base_uri": "https://localhost:8080/",
          "height": 727
        },
        "outputId": "2925fe94-6186-49b8-d246-429d583abbc2"
      },
      "outputs": [
        {
          "output_type": "stream",
          "name": "stdout",
          "text": [
            "              precision    recall  f1-score   support\n",
            "\n",
            "           0       0.92      0.89      0.90        64\n",
            "           1       0.82      0.86      0.84        36\n",
            "\n",
            "    accuracy                           0.88       100\n",
            "   macro avg       0.87      0.88      0.87       100\n",
            "weighted avg       0.88      0.88      0.88       100\n",
            "\n"
          ]
        },
        {
          "output_type": "display_data",
          "data": {
            "text/plain": [
              "<Figure size 800x600 with 2 Axes>"
            ],
            "image/png": "[encoded data removed]"
          },
          "metadata": {}
        }
      ],
      "source": [
        "classifier_depth5 = DecisionTreeClassifier(criterion='entropy', random_state=0, max_depth=5)\n",
        "classifier_depth5.fit(X_train, y_train)\n",
        "y_pred_depth5 = classifier_depth5.predict(X_test)\n",
        "\n",
        "print(classification_report(y_test, y_pred_depth5))\n",
        "\n",
        "cm_depth5 = confusion_matrix(y_test, y_pred_depth5)\n",
        "plt.figure(figsize=(8, 6))\n",
        "sns.heatmap(cm_depth5, annot=True, fmt='d', cmap='Blues',\n",
        "            xticklabels=['No compró', 'Compró'],\n",
        "            yticklabels=['No compró', 'Compró'])\n",
        "plt.xlabel('Predicción', fontsize=12)\n",
        "plt.ylabel('Valor Real', fontsize=12)\n",
        "plt.title('Matriz de Confusión (max_depth=5)', fontsize=14, fontweight='bold')\n",
        "plt.show()\n"
      ]
    },
    {
      "cell_type": "code",
      "source": [
        "\n",
        "print(\"Métricas del modelo inicial:\")\n",
        "print(classification_report(y_test, y_pred))\n",
        "\n",
        "print(\"\\nMétricas del modelo con max_depth=5:\")\n",
        "print(classification_report(y_test, y_pred_depth5))\n",
        "\n",
        "print(\"\\nMatriz de confusión del modelo inicial:\")\n",
        "print(cm)\n",
        "print(\"\\nMatriz de confusión del modelo con max_depth=5:\")\n",
        "cm_depth5\n"
      ],
      "metadata": {
        "colab": {
          "base_uri": "https://localhost:8080/"
        },
        "id": "qr8GcLboeSaI",
        "outputId": "304b1775-c307-411a-9350-5838e81c51c2"
      },
      "id": "qr8GcLboeSaI",
      "execution_count": null,
      "outputs": [
        {
          "output_type": "stream",
          "name": "stdout",
          "text": [
            "Métricas del modelo inicial:\n",
            "              precision    recall  f1-score   support\n",
            "\n",
            "           0       0.89      0.86      0.87        64\n",
            "           1       0.76      0.81      0.78        36\n",
            "\n",
            "    accuracy                           0.84       100\n",
            "   macro avg       0.83      0.83      0.83       100\n",
            "weighted avg       0.84      0.84      0.84       100\n",
            "\n",
            "\n",
            "Métricas del modelo con max_depth=5:\n",
            "              precision    recall  f1-score   support\n",
            "\n",
            "           0       0.92      0.89      0.90        64\n",
            "           1       0.82      0.86      0.84        36\n",
            "\n",
            "    accuracy                           0.88       100\n",
            "   macro avg       0.87      0.88      0.87       100\n",
            "weighted avg       0.88      0.88      0.88       100\n",
            "\n",
            "\n",
            "Matriz de confusión del modelo inicial:\n",
            "[[55  9]\n",
            " [ 7 29]]\n",
            "\n",
            "Matriz de confusión del modelo con max_depth=5:\n"
          ]
        },
        {
          "output_type": "execute_result",
          "data": {
            "text/plain": [
              "array([[57,  7],\n",
              "       [ 5, 31]])"
            ]
          },
          "metadata": {},
          "execution_count": 24
        }
      ]
    },
    {
      "cell_type": "markdown",
      "id": "step-15",
      "metadata": {
        "id": "step-15"
      },
      "source": [
        "## 15. Discusión Final y Comparación de Modelos\n",
        "\n",
        "Analiza y compara los resultados obtenidos del modelo inicial y el modelo ajustado. Reflexiona sobre los siguientes aspectos:\n",
        "- ¿Cuál de los dos modelos ofrece un mejor balance entre complejidad e interpretabilidad?\n",
        "- ¿Qué indicios sugieren un mejor comportamiento frente al sobreajuste?\n",
        "- ¿Qué otros modelos (por ejemplo, Regresión Logística) podrían utilizarse como referencia para evaluar el desempeño?\n",
        "\n",
        "Utiliza estos puntos para guiar una discusión profesional y técnica entre los participantes."
      ]
    },
    {
      "cell_type": "markdown",
      "source": [
        "¿Cuál de los dos modelos ofrece un mejor balance entre complejidad e interpretabilidad?\n",
        "\n",
        "El modelo con max_depth=5 generalmente ofrece un mejor balance.  Un árbol más profundo (el modelo inicial) puede ser más complejo y difícil de interpretar debido a su mayor cantidad de nodos y reglas de decisión.  Aunque potencialmente más preciso en el conjunto de entrenamiento, puede sobreajustarse.  El árbol más superficial (max_depth=5) es más simple y, por lo tanto, más fácil de entender, lo que facilita la explicación de las predicciones.  El equilibrio se encuentra en la capacidad del modelo ajustado para generalizar bien a datos nuevos, sacrificando algo de precisión en el conjunto de entrenamiento para mejorar la capacidad de predicción en el conjunto de prueba.\n",
        "\n",
        "¿Qué indicios sugieren un mejor comportamiento frente al sobreajuste?\n",
        "\n",
        "El modelo con max_depth=5 muestra indicios de un mejor comportamiento frente al sobreajuste.  Esto se puede observar comparando las métricas de rendimiento (precisión, recall, F1-score) entre los conjuntos de entrenamiento y prueba. Si las métricas en el conjunto de prueba son significativamente más bajas que en el de entrenamiento, esto sugiere sobreajuste.  El modelo con profundidad limitada generalmente tendrá métricas de rendimiento más cercanas entre ambos conjuntos, señalando una mejor capacidad para generalizar a datos no vistos previamente. Una diferencia menor entre las métricas de ambos conjuntos es un buen indicador.\n",
        "\n",
        "¿Qué otros modelos (por ejemplo, Regresión Logística) podrían utilizarse como referencia para evaluar el desempeño?\n",
        "\n",
        "La Regresión Logística es un buen modelo de referencia para comparar el rendimiento.  Su simplicidad y solidez permiten tener una línea base para evaluar el Árbol de Decisión.  Otros modelos como SVM, KNN o Redes Neuronales también podrían usarse como puntos de comparación para determinar si el Árbol de Decisión es el modelo más adecuado para este problema.  Comparar el rendimiento del Árbol de decisión con estos modelos proporcionará una visión más completa de la eficacia del modelo y permitirá determinar si las características particulares del árbol de decisión ofrecen alguna ventaja en relación al problema. La comparación ayudaría a determinar si la complejidad añadida del Árbol de Decisión, con sus ventajas de interpretabilidad, ofrece alguna ventaja sobre modelos más simples."
      ],
      "metadata": {
        "id": "_CECXGhemd3j"
      },
      "id": "_CECXGhemd3j"
    }
  ],
  "metadata": {
    "kernelspec": {
      "display_name": "Python 3",
      "language": "python",
      "name": "python3"
    },
    "language_info": {
      "codemirror_mode": {
        "name": "ipython",
        "version": 3
      },
      "file_extension": ".py",
      "mimetype": "text/x-python",
      "name": "python",
      "nbconvert_exporter": "python",
      "pygments_lexer": "ipython3",
      "version": "3.12.4"
    },
    "colab": {
      "provenance": []
    }
  },
  "nbformat": 4,
  "nbformat_minor": 5
}