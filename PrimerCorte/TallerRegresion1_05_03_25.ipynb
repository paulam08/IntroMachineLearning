{
  "cells": [
    {
      "cell_type": "markdown",
      "id": "cecf7a01",
      "metadata": {
        "id": "cecf7a01"
      },
      "source": [
        "# Análisis Completo de Regresión Lineal\n",
        "\n",
        "Este notebook muestra paso a paso cómo realizar un análisis de **Regresión Lineal** empleando un conjunto de datos que contiene:\n",
        "- **valuationdate**: fecha de valoración (opcional para el modelo)\n",
        "- **revenues**: ingresos\n",
        "- **ebit**: utilidad antes de intereses e impuestos\n",
        "- **depreciation**: depreciación\n",
        "- **capex**: gastos de capital\n",
        "- **ncwc**: cambio en capital de trabajo neto\n",
        "- **bv**: (posiblemente) valor en libros\n",
        "- **y**: variable objetivo que deseamos predecir (por ejemplo, un valor financiero o de valoración)\n",
        "\n",
        "Iremos desde la **carga** y **exploración** del dataset hasta la **interpretación** de coeficientes y la **evaluación** de métricas importantes."
      ]
    },
    {
      "cell_type": "code",
      "source": [
        "!wget https://github.com/javierherrera1996/IntroMachineLearning/raw/refs/heads/main/PrimerCorte/RegresionLineal/enterprise.csv"
      ],
      "metadata": {
        "colab": {
          "base_uri": "https://localhost:8080/"
        },
        "id": "LCuTCvghz5bk",
        "outputId": "7654ceed-4d21-4916-9ca3-4833481c336c"
      },
      "id": "LCuTCvghz5bk",
      "execution_count": 1,
      "outputs": [
        {
          "output_type": "stream",
          "name": "stdout",
          "text": [
            "--2025-03-05 22:40:22--  https://github.com/javierherrera1996/IntroMachineLearning/raw/refs/heads/main/PrimerCorte/RegresionLineal/enterprise.csv\n",
            "Resolving github.com (github.com)... 140.82.113.3\n",
            "Connecting to github.com (github.com)|140.82.113.3|:443... connected.\n",
            "HTTP request sent, awaiting response... 302 Found\n",
            "Location: https://raw.githubusercontent.com/javierherrera1996/IntroMachineLearning/refs/heads/main/PrimerCorte/RegresionLineal/enterprise.csv [following]\n",
            "--2025-03-05 22:40:22--  https://raw.githubusercontent.com/javierherrera1996/IntroMachineLearning/refs/heads/main/PrimerCorte/RegresionLineal/enterprise.csv\n",
            "Resolving raw.githubusercontent.com (raw.githubusercontent.com)... 185.199.110.133, 185.199.111.133, 185.199.108.133, ...\n",
            "Connecting to raw.githubusercontent.com (raw.githubusercontent.com)|185.199.110.133|:443... connected.\n",
            "HTTP request sent, awaiting response... 200 OK\n",
            "Length: 82415 (80K) [text/plain]\n",
            "Saving to: ‘enterprise.csv’\n",
            "\n",
            "enterprise.csv      100%[===================>]  80.48K  --.-KB/s    in 0.05s   \n",
            "\n",
            "2025-03-05 22:40:22 (1.62 MB/s) - ‘enterprise.csv’ saved [82415/82415]\n",
            "\n"
          ]
        }
      ]
    },
    {
      "cell_type": "markdown",
      "id": "7ceab41b",
      "metadata": {
        "id": "7ceab41b"
      },
      "source": [
        "## Paso 0: Importar librerías y configuración"
      ]
    },
    {
      "cell_type": "code",
      "execution_count": 2,
      "id": "99b373c1",
      "metadata": {
        "id": "99b373c1"
      },
      "outputs": [],
      "source": [
        "import numpy as np\n",
        "import pandas as pd\n",
        "import matplotlib.pyplot as plt\n",
        "import seaborn as sns\n",
        "\n",
        "from sklearn.linear_model import LinearRegression\n",
        "from sklearn.model_selection import train_test_split\n",
        "from sklearn.metrics import mean_squared_error, r2_score\n",
        "\n",
        "sns.set(style=\"whitegrid\")\n",
        "plt.rcParams[\"figure.figsize\"] = (8, 6)"
      ]
    },
    {
      "cell_type": "markdown",
      "id": "871d0c89",
      "metadata": {
        "id": "871d0c89"
      },
      "source": [
        "## Paso 1: Carga y Exploración de Datos (EDA)\n",
        "\n",
        "En este primer bloque, cargaremos nuestro dataset y realizaremos un Análisis Exploratorio básico."
      ]
    },
    {
      "cell_type": "code",
      "execution_count": 3,
      "id": "bc8b2753",
      "metadata": {
        "id": "bc8b2753"
      },
      "outputs": [],
      "source": [
        "df = pd.read_csv(\"enterprise.csv\")"
      ]
    },
    {
      "cell_type": "code",
      "execution_count": 4,
      "id": "ee5666d8",
      "metadata": {
        "id": "ee5666d8",
        "outputId": "daa6987c-63e4-4e6b-f60c-1a8f1e604250",
        "colab": {
          "base_uri": "https://localhost:8080/"
        }
      },
      "outputs": [
        {
          "output_type": "stream",
          "name": "stdout",
          "text": [
            "<class 'pandas.core.frame.DataFrame'>\n",
            "RangeIndex: 1061 entries, 0 to 1060\n",
            "Data columns (total 8 columns):\n",
            " #   Column         Non-Null Count  Dtype  \n",
            "---  ------         --------------  -----  \n",
            " 0   valuationdate  1061 non-null   object \n",
            " 1   revenues       1061 non-null   float64\n",
            " 2   ebit           1061 non-null   float64\n",
            " 3   depreciation   1061 non-null   float64\n",
            " 4   capex          1061 non-null   float64\n",
            " 5   ncwc           1061 non-null   float64\n",
            " 6   bv             1061 non-null   float64\n",
            " 7   y              1061 non-null   float64\n",
            "dtypes: float64(7), object(1)\n",
            "memory usage: 66.4+ KB\n"
          ]
        }
      ],
      "source": [
        "df.info()"
      ]
    },
    {
      "cell_type": "code",
      "source": [
        "df.describe()"
      ],
      "metadata": {
        "id": "cE762WH1TDo9",
        "outputId": "a2b87b54-2298-45b7-ea17-e903f035fef3",
        "colab": {
          "base_uri": "https://localhost:8080/",
          "height": 300
        }
      },
      "id": "cE762WH1TDo9",
      "execution_count": null,
      "outputs": [
        {
          "output_type": "execute_result",
          "data": {
            "text/plain": [
              "           revenues           ebit   depreciation          capex  \\\n",
              "count  1.061000e+03    1061.000000    1061.000000    1061.000000   \n",
              "mean   1.632727e+05   24076.406810    8002.050367   10961.602205   \n",
              "std    2.213828e+05   31871.076559   13898.135849   20250.735197   \n",
              "min    8.560000e+01  -29982.979880      -5.690000    -694.661000   \n",
              "25%    4.265958e+04    4522.900000     999.340000    1666.600000   \n",
              "50%    1.082011e+05   12224.611950    3446.250000    4949.447000   \n",
              "75%    1.862485e+05   32228.941870    8361.220000   11201.479000   \n",
              "max    2.586712e+06  289541.300000  128993.500000  205525.700000   \n",
              "\n",
              "                ncwc            bv             y  \n",
              "count    1061.000000  1.061000e+03  1.061000e+03  \n",
              "mean    22324.130946  8.057162e+04  3.292238e+05  \n",
              "std     54636.421540  1.043500e+05  4.056701e+05  \n",
              "min   -118819.899000 -1.503965e+04  3.692000e+02  \n",
              "25%      3115.247000  1.689500e+04  6.981010e+04  \n",
              "50%     10736.200000  4.172290e+04  1.850416e+05  \n",
              "75%     23454.185000  1.147563e+05  4.258273e+05  \n",
              "max    623588.700000  1.009026e+06  4.175892e+06  "
            ],
            "text/html": [
              "\n",
              "  <div id=\"df-5e2daf51-4c82-4450-9e73-dae1613589b8\" class=\"colab-df-container\">\n",
              "    <div>\n",
              "<style scoped>\n",
              "    .dataframe tbody tr th:only-of-type {\n",
              "        vertical-align: middle;\n",
              "    }\n",
              "\n",
              "    .dataframe tbody tr th {\n",
              "        vertical-align: top;\n",
              "    }\n",
              "\n",
              "    .dataframe thead th {\n",
              "        text-align: right;\n",
              "    }\n",
              "</style>\n",
              "<table border=\"1\" class=\"dataframe\">\n",
              "  <thead>\n",
              "    <tr style=\"text-align: right;\">\n",
              "      <th></th>\n",
              "      <th>revenues</th>\n",
              "      <th>ebit</th>\n",
              "      <th>depreciation</th>\n",
              "      <th>capex</th>\n",
              "      <th>ncwc</th>\n",
              "      <th>bv</th>\n",
              "      <th>y</th>\n",
              "    </tr>\n",
              "  </thead>\n",
              "  <tbody>\n",
              "    <tr>\n",
              "      <th>count</th>\n",
              "      <td>1.061000e+03</td>\n",
              "      <td>1061.000000</td>\n",
              "      <td>1061.000000</td>\n",
              "      <td>1061.000000</td>\n",
              "      <td>1061.000000</td>\n",
              "      <td>1.061000e+03</td>\n",
              "      <td>1.061000e+03</td>\n",
              "    </tr>\n",
              "    <tr>\n",
              "      <th>mean</th>\n",
              "      <td>1.632727e+05</td>\n",
              "      <td>24076.406810</td>\n",
              "      <td>8002.050367</td>\n",
              "      <td>10961.602205</td>\n",
              "      <td>22324.130946</td>\n",
              "      <td>8.057162e+04</td>\n",
              "      <td>3.292238e+05</td>\n",
              "    </tr>\n",
              "    <tr>\n",
              "      <th>std</th>\n",
              "      <td>2.213828e+05</td>\n",
              "      <td>31871.076559</td>\n",
              "      <td>13898.135849</td>\n",
              "      <td>20250.735197</td>\n",
              "      <td>54636.421540</td>\n",
              "      <td>1.043500e+05</td>\n",
              "      <td>4.056701e+05</td>\n",
              "    </tr>\n",
              "    <tr>\n",
              "      <th>min</th>\n",
              "      <td>8.560000e+01</td>\n",
              "      <td>-29982.979880</td>\n",
              "      <td>-5.690000</td>\n",
              "      <td>-694.661000</td>\n",
              "      <td>-118819.899000</td>\n",
              "      <td>-1.503965e+04</td>\n",
              "      <td>3.692000e+02</td>\n",
              "    </tr>\n",
              "    <tr>\n",
              "      <th>25%</th>\n",
              "      <td>4.265958e+04</td>\n",
              "      <td>4522.900000</td>\n",
              "      <td>999.340000</td>\n",
              "      <td>1666.600000</td>\n",
              "      <td>3115.247000</td>\n",
              "      <td>1.689500e+04</td>\n",
              "      <td>6.981010e+04</td>\n",
              "    </tr>\n",
              "    <tr>\n",
              "      <th>50%</th>\n",
              "      <td>1.082011e+05</td>\n",
              "      <td>12224.611950</td>\n",
              "      <td>3446.250000</td>\n",
              "      <td>4949.447000</td>\n",
              "      <td>10736.200000</td>\n",
              "      <td>4.172290e+04</td>\n",
              "      <td>1.850416e+05</td>\n",
              "    </tr>\n",
              "    <tr>\n",
              "      <th>75%</th>\n",
              "      <td>1.862485e+05</td>\n",
              "      <td>32228.941870</td>\n",
              "      <td>8361.220000</td>\n",
              "      <td>11201.479000</td>\n",
              "      <td>23454.185000</td>\n",
              "      <td>1.147563e+05</td>\n",
              "      <td>4.258273e+05</td>\n",
              "    </tr>\n",
              "    <tr>\n",
              "      <th>max</th>\n",
              "      <td>2.586712e+06</td>\n",
              "      <td>289541.300000</td>\n",
              "      <td>128993.500000</td>\n",
              "      <td>205525.700000</td>\n",
              "      <td>623588.700000</td>\n",
              "      <td>1.009026e+06</td>\n",
              "      <td>4.175892e+06</td>\n",
              "    </tr>\n",
              "  </tbody>\n",
              "</table>\n",
              "</div>\n",
              "    <div class=\"colab-df-buttons\">\n",
              "\n",
              "  <div class=\"colab-df-container\">\n",
              "    <button class=\"colab-df-convert\" onclick=\"convertToInteractive('df-5e2daf51-4c82-4450-9e73-dae1613589b8')\"\n",
              "            title=\"Convert this dataframe to an interactive table.\"\n",
              "            style=\"display:none;\">\n",
              "\n",
              "  <svg xmlns=\"http://www.w3.org/2000/svg\" height=\"24px\" viewBox=\"0 -960 960 960\">\n",
              "    <path d=\"M120-120v-720h720v720H120Zm60-500h600v-160H180v160Zm220 220h160v-160H400v160Zm0 220h160v-160H400v160ZM180-400h160v-160H180v160Zm440 0h160v-160H620v160ZM180-180h160v-160H180v160Zm440 0h160v-160H620v160Z\"/>\n",
              "  </svg>\n",
              "    </button>\n",
              "\n",
              "  <style>\n",
              "    .colab-df-container {\n",
              "      display:flex;\n",
              "      gap: 12px;\n",
              "    }\n",
              "\n",
              "    .colab-df-convert {\n",
              "      background-color: #E8F0FE;\n",
              "      border: none;\n",
              "      border-radius: 50%;\n",
              "      cursor: pointer;\n",
              "      display: none;\n",
              "      fill: #1967D2;\n",
              "      height: 32px;\n",
              "      padding: 0 0 0 0;\n",
              "      width: 32px;\n",
              "    }\n",
              "\n",
              "    .colab-df-convert:hover {\n",
              "      background-color: #E2EBFA;\n",
              "      box-shadow: 0px 1px 2px rgba(60, 64, 67, 0.3), 0px 1px 3px 1px rgba(60, 64, 67, 0.15);\n",
              "      fill: #174EA6;\n",
              "    }\n",
              "\n",
              "    .colab-df-buttons div {\n",
              "      margin-bottom: 4px;\n",
              "    }\n",
              "\n",
              "    [theme=dark] .colab-df-convert {\n",
              "      background-color: #3B4455;\n",
              "      fill: #D2E3FC;\n",
              "    }\n",
              "\n",
              "    [theme=dark] .colab-df-convert:hover {\n",
              "      background-color: #434B5C;\n",
              "      box-shadow: 0px 1px 3px 1px rgba(0, 0, 0, 0.15);\n",
              "      filter: drop-shadow(0px 1px 2px rgba(0, 0, 0, 0.3));\n",
              "      fill: #FFFFFF;\n",
              "    }\n",
              "  </style>\n",
              "\n",
              "    <script>\n",
              "      const buttonEl =\n",
              "        document.querySelector('#df-5e2daf51-4c82-4450-9e73-dae1613589b8 button.colab-df-convert');\n",
              "      buttonEl.style.display =\n",
              "        google.colab.kernel.accessAllowed ? 'block' : 'none';\n",
              "\n",
              "      async function convertToInteractive(key) {\n",
              "        const element = document.querySelector('#df-5e2daf51-4c82-4450-9e73-dae1613589b8');\n",
              "        const dataTable =\n",
              "          await google.colab.kernel.invokeFunction('convertToInteractive',\n",
              "                                                    [key], {});\n",
              "        if (!dataTable) return;\n",
              "\n",
              "        const docLinkHtml = 'Like what you see? Visit the ' +\n",
              "          '<a target=\"_blank\" href=https://colab.research.google.com/notebooks/data_table.ipynb>data table notebook</a>'\n",
              "          + ' to learn more about interactive tables.';\n",
              "        element.innerHTML = '';\n",
              "        dataTable['output_type'] = 'display_data';\n",
              "        await google.colab.output.renderOutput(dataTable, element);\n",
              "        const docLink = document.createElement('div');\n",
              "        docLink.innerHTML = docLinkHtml;\n",
              "        element.appendChild(docLink);\n",
              "      }\n",
              "    </script>\n",
              "  </div>\n",
              "\n",
              "\n",
              "<div id=\"df-f37ad542-9e6a-429a-bc8d-cd7a8c535ada\">\n",
              "  <button class=\"colab-df-quickchart\" onclick=\"quickchart('df-f37ad542-9e6a-429a-bc8d-cd7a8c535ada')\"\n",
              "            title=\"Suggest charts\"\n",
              "            style=\"display:none;\">\n",
              "\n",
              "<svg xmlns=\"http://www.w3.org/2000/svg\" height=\"24px\"viewBox=\"0 0 24 24\"\n",
              "     width=\"24px\">\n",
              "    <g>\n",
              "        <path d=\"M19 3H5c-1.1 0-2 .9-2 2v14c0 1.1.9 2 2 2h14c1.1 0 2-.9 2-2V5c0-1.1-.9-2-2-2zM9 17H7v-7h2v7zm4 0h-2V7h2v10zm4 0h-2v-4h2v4z\"/>\n",
              "    </g>\n",
              "</svg>\n",
              "  </button>\n",
              "\n",
              "<style>\n",
              "  .colab-df-quickchart {\n",
              "      --bg-color: #E8F0FE;\n",
              "      --fill-color: #1967D2;\n",
              "      --hover-bg-color: #E2EBFA;\n",
              "      --hover-fill-color: #174EA6;\n",
              "      --disabled-fill-color: #AAA;\n",
              "      --disabled-bg-color: #DDD;\n",
              "  }\n",
              "\n",
              "  [theme=dark] .colab-df-quickchart {\n",
              "      --bg-color: #3B4455;\n",
              "      --fill-color: #D2E3FC;\n",
              "      --hover-bg-color: #434B5C;\n",
              "      --hover-fill-color: #FFFFFF;\n",
              "      --disabled-bg-color: #3B4455;\n",
              "      --disabled-fill-color: #666;\n",
              "  }\n",
              "\n",
              "  .colab-df-quickchart {\n",
              "    background-color: var(--bg-color);\n",
              "    border: none;\n",
              "    border-radius: 50%;\n",
              "    cursor: pointer;\n",
              "    display: none;\n",
              "    fill: var(--fill-color);\n",
              "    height: 32px;\n",
              "    padding: 0;\n",
              "    width: 32px;\n",
              "  }\n",
              "\n",
              "  .colab-df-quickchart:hover {\n",
              "    background-color: var(--hover-bg-color);\n",
              "    box-shadow: 0 1px 2px rgba(60, 64, 67, 0.3), 0 1px 3px 1px rgba(60, 64, 67, 0.15);\n",
              "    fill: var(--button-hover-fill-color);\n",
              "  }\n",
              "\n",
              "  .colab-df-quickchart-complete:disabled,\n",
              "  .colab-df-quickchart-complete:disabled:hover {\n",
              "    background-color: var(--disabled-bg-color);\n",
              "    fill: var(--disabled-fill-color);\n",
              "    box-shadow: none;\n",
              "  }\n",
              "\n",
              "  .colab-df-spinner {\n",
              "    border: 2px solid var(--fill-color);\n",
              "    border-color: transparent;\n",
              "    border-bottom-color: var(--fill-color);\n",
              "    animation:\n",
              "      spin 1s steps(1) infinite;\n",
              "  }\n",
              "\n",
              "  @keyframes spin {\n",
              "    0% {\n",
              "      border-color: transparent;\n",
              "      border-bottom-color: var(--fill-color);\n",
              "      border-left-color: var(--fill-color);\n",
              "    }\n",
              "    20% {\n",
              "      border-color: transparent;\n",
              "      border-left-color: var(--fill-color);\n",
              "      border-top-color: var(--fill-color);\n",
              "    }\n",
              "    30% {\n",
              "      border-color: transparent;\n",
              "      border-left-color: var(--fill-color);\n",
              "      border-top-color: var(--fill-color);\n",
              "      border-right-color: var(--fill-color);\n",
              "    }\n",
              "    40% {\n",
              "      border-color: transparent;\n",
              "      border-right-color: var(--fill-color);\n",
              "      border-top-color: var(--fill-color);\n",
              "    }\n",
              "    60% {\n",
              "      border-color: transparent;\n",
              "      border-right-color: var(--fill-color);\n",
              "    }\n",
              "    80% {\n",
              "      border-color: transparent;\n",
              "      border-right-color: var(--fill-color);\n",
              "      border-bottom-color: var(--fill-color);\n",
              "    }\n",
              "    90% {\n",
              "      border-color: transparent;\n",
              "      border-bottom-color: var(--fill-color);\n",
              "    }\n",
              "  }\n",
              "</style>\n",
              "\n",
              "  <script>\n",
              "    async function quickchart(key) {\n",
              "      const quickchartButtonEl =\n",
              "        document.querySelector('#' + key + ' button');\n",
              "      quickchartButtonEl.disabled = true;  // To prevent multiple clicks.\n",
              "      quickchartButtonEl.classList.add('colab-df-spinner');\n",
              "      try {\n",
              "        const charts = await google.colab.kernel.invokeFunction(\n",
              "            'suggestCharts', [key], {});\n",
              "      } catch (error) {\n",
              "        console.error('Error during call to suggestCharts:', error);\n",
              "      }\n",
              "      quickchartButtonEl.classList.remove('colab-df-spinner');\n",
              "      quickchartButtonEl.classList.add('colab-df-quickchart-complete');\n",
              "    }\n",
              "    (() => {\n",
              "      let quickchartButtonEl =\n",
              "        document.querySelector('#df-f37ad542-9e6a-429a-bc8d-cd7a8c535ada button');\n",
              "      quickchartButtonEl.style.display =\n",
              "        google.colab.kernel.accessAllowed ? 'block' : 'none';\n",
              "    })();\n",
              "  </script>\n",
              "</div>\n",
              "\n",
              "    </div>\n",
              "  </div>\n"
            ],
            "application/vnd.google.colaboratory.intrinsic+json": {
              "type": "dataframe",
              "summary": "{\n  \"name\": \"df\",\n  \"rows\": 8,\n  \"fields\": [\n    {\n      \"column\": \"revenues\",\n      \"properties\": {\n        \"dtype\": \"number\",\n        \"std\": 882023.892826327,\n        \"min\": 85.6,\n        \"max\": 2586711.9,\n        \"num_unique_values\": 8,\n        \"samples\": [\n          163272.69379951016,\n          108201.1,\n          1061.0\n        ],\n        \"semantic_type\": \"\",\n        \"description\": \"\"\n      }\n    },\n    {\n      \"column\": \"ebit\",\n      \"properties\": {\n        \"dtype\": \"number\",\n        \"std\": 100595.06976728782,\n        \"min\": -29982.97988,\n        \"max\": 289541.3,\n        \"num_unique_values\": 8,\n        \"samples\": [\n          24076.40680961668,\n          12224.61195,\n          1061.0\n        ],\n        \"semantic_type\": \"\",\n        \"description\": \"\"\n      }\n    },\n    {\n      \"column\": \"depreciation\",\n      \"properties\": {\n        \"dtype\": \"number\",\n        \"std\": 44057.37435424973,\n        \"min\": -5.69,\n        \"max\": 128993.5,\n        \"num_unique_values\": 8,\n        \"samples\": [\n          8002.050366635249,\n          3446.25,\n          1061.0\n        ],\n        \"semantic_type\": \"\",\n        \"description\": \"\"\n      }\n    },\n    {\n      \"column\": \"capex\",\n      \"properties\": {\n        \"dtype\": \"number\",\n        \"std\": 70510.65907942971,\n        \"min\": -694.661,\n        \"max\": 205525.7,\n        \"num_unique_values\": 8,\n        \"samples\": [\n          10961.602205466543,\n          4949.447,\n          1061.0\n        ],\n        \"semantic_type\": \"\",\n        \"description\": \"\"\n      }\n    },\n    {\n      \"column\": \"ncwc\",\n      \"properties\": {\n        \"dtype\": \"number\",\n        \"std\": 226487.41904970765,\n        \"min\": -118819.899,\n        \"max\": 623588.7,\n        \"num_unique_values\": 8,\n        \"samples\": [\n          22324.130946279547,\n          10736.2,\n          1061.0\n        ],\n        \"semantic_type\": \"\",\n        \"description\": \"\"\n      }\n    },\n    {\n      \"column\": \"bv\",\n      \"properties\": {\n        \"dtype\": \"number\",\n        \"std\": 342677.31527034246,\n        \"min\": -15039.647,\n        \"max\": 1009025.8,\n        \"num_unique_values\": 8,\n        \"samples\": [\n          80571.61692554194,\n          41722.9,\n          1061.0\n        ],\n        \"semantic_type\": \"\",\n        \"description\": \"\"\n      }\n    },\n    {\n      \"column\": \"y\",\n      \"properties\": {\n        \"dtype\": \"number\",\n        \"std\": 1415294.699374339,\n        \"min\": 369.2,\n        \"max\": 4175891.774,\n        \"num_unique_values\": 8,\n        \"samples\": [\n          329223.752084065,\n          185041.5662,\n          1061.0\n        ],\n        \"semantic_type\": \"\",\n        \"description\": \"\"\n      }\n    }\n  ]\n}"
            }
          },
          "metadata": {},
          "execution_count": 14
        }
      ]
    },
    {
      "cell_type": "code",
      "source": [
        "df.head()"
      ],
      "metadata": {
        "id": "hvC5O-AwTIHk",
        "outputId": "17cdd41b-71f5-4206-eb9f-b4314ac0f419",
        "colab": {
          "base_uri": "https://localhost:8080/",
          "height": 206
        }
      },
      "id": "hvC5O-AwTIHk",
      "execution_count": null,
      "outputs": [
        {
          "output_type": "execute_result",
          "data": {
            "text/plain": [
              "  valuationdate    revenues          ebit  depreciation      capex  \\\n",
              "0    30/06/2011  86470.7000  10387.500000      6429.000   3512.000   \n",
              "1    31/12/2010  84754.2000  14031.180800      8658.600  17172.500   \n",
              "2    30/09/2016  15653.4800    221.347452       647.239    749.478   \n",
              "3    30/09/2018  62001.3297   7551.761957      1808.830   2702.850   \n",
              "4    30/09/2014   1242.8300    497.141501       232.027   1552.908   \n",
              "\n",
              "          ncwc         bv             y  \n",
              "0  16848.90000  47945.100   91760.80000  \n",
              "1  12095.10000  66804.400  184461.70000  \n",
              "2   1468.42800  10128.726   23323.68520  \n",
              "3  11873.25464  27144.930  130202.79240  \n",
              "4    149.97100   1463.052   11472.12267  "
            ],
            "text/html": [
              "\n",
              "  <div id=\"df-85d28c38-0503-4f19-a112-3546eb3fcbca\" class=\"colab-df-container\">\n",
              "    <div>\n",
              "<style scoped>\n",
              "    .dataframe tbody tr th:only-of-type {\n",
              "        vertical-align: middle;\n",
              "    }\n",
              "\n",
              "    .dataframe tbody tr th {\n",
              "        vertical-align: top;\n",
              "    }\n",
              "\n",
              "    .dataframe thead th {\n",
              "        text-align: right;\n",
              "    }\n",
              "</style>\n",
              "<table border=\"1\" class=\"dataframe\">\n",
              "  <thead>\n",
              "    <tr style=\"text-align: right;\">\n",
              "      <th></th>\n",
              "      <th>valuationdate</th>\n",
              "      <th>revenues</th>\n",
              "      <th>ebit</th>\n",
              "      <th>depreciation</th>\n",
              "      <th>capex</th>\n",
              "      <th>ncwc</th>\n",
              "      <th>bv</th>\n",
              "      <th>y</th>\n",
              "    </tr>\n",
              "  </thead>\n",
              "  <tbody>\n",
              "    <tr>\n",
              "      <th>0</th>\n",
              "      <td>30/06/2011</td>\n",
              "      <td>86470.7000</td>\n",
              "      <td>10387.500000</td>\n",
              "      <td>6429.000</td>\n",
              "      <td>3512.000</td>\n",
              "      <td>16848.90000</td>\n",
              "      <td>47945.100</td>\n",
              "      <td>91760.80000</td>\n",
              "    </tr>\n",
              "    <tr>\n",
              "      <th>1</th>\n",
              "      <td>31/12/2010</td>\n",
              "      <td>84754.2000</td>\n",
              "      <td>14031.180800</td>\n",
              "      <td>8658.600</td>\n",
              "      <td>17172.500</td>\n",
              "      <td>12095.10000</td>\n",
              "      <td>66804.400</td>\n",
              "      <td>184461.70000</td>\n",
              "    </tr>\n",
              "    <tr>\n",
              "      <th>2</th>\n",
              "      <td>30/09/2016</td>\n",
              "      <td>15653.4800</td>\n",
              "      <td>221.347452</td>\n",
              "      <td>647.239</td>\n",
              "      <td>749.478</td>\n",
              "      <td>1468.42800</td>\n",
              "      <td>10128.726</td>\n",
              "      <td>23323.68520</td>\n",
              "    </tr>\n",
              "    <tr>\n",
              "      <th>3</th>\n",
              "      <td>30/09/2018</td>\n",
              "      <td>62001.3297</td>\n",
              "      <td>7551.761957</td>\n",
              "      <td>1808.830</td>\n",
              "      <td>2702.850</td>\n",
              "      <td>11873.25464</td>\n",
              "      <td>27144.930</td>\n",
              "      <td>130202.79240</td>\n",
              "    </tr>\n",
              "    <tr>\n",
              "      <th>4</th>\n",
              "      <td>30/09/2014</td>\n",
              "      <td>1242.8300</td>\n",
              "      <td>497.141501</td>\n",
              "      <td>232.027</td>\n",
              "      <td>1552.908</td>\n",
              "      <td>149.97100</td>\n",
              "      <td>1463.052</td>\n",
              "      <td>11472.12267</td>\n",
              "    </tr>\n",
              "  </tbody>\n",
              "</table>\n",
              "</div>\n",
              "    <div class=\"colab-df-buttons\">\n",
              "\n",
              "  <div class=\"colab-df-container\">\n",
              "    <button class=\"colab-df-convert\" onclick=\"convertToInteractive('df-85d28c38-0503-4f19-a112-3546eb3fcbca')\"\n",
              "            title=\"Convert this dataframe to an interactive table.\"\n",
              "            style=\"display:none;\">\n",
              "\n",
              "  <svg xmlns=\"http://www.w3.org/2000/svg\" height=\"24px\" viewBox=\"0 -960 960 960\">\n",
              "    <path d=\"M120-120v-720h720v720H120Zm60-500h600v-160H180v160Zm220 220h160v-160H400v160Zm0 220h160v-160H400v160ZM180-400h160v-160H180v160Zm440 0h160v-160H620v160ZM180-180h160v-160H180v160Zm440 0h160v-160H620v160Z\"/>\n",
              "  </svg>\n",
              "    </button>\n",
              "\n",
              "  <style>\n",
              "    .colab-df-container {\n",
              "      display:flex;\n",
              "      gap: 12px;\n",
              "    }\n",
              "\n",
              "    .colab-df-convert {\n",
              "      background-color: #E8F0FE;\n",
              "      border: none;\n",
              "      border-radius: 50%;\n",
              "      cursor: pointer;\n",
              "      display: none;\n",
              "      fill: #1967D2;\n",
              "      height: 32px;\n",
              "      padding: 0 0 0 0;\n",
              "      width: 32px;\n",
              "    }\n",
              "\n",
              "    .colab-df-convert:hover {\n",
              "      background-color: #E2EBFA;\n",
              "      box-shadow: 0px 1px 2px rgba(60, 64, 67, 0.3), 0px 1px 3px 1px rgba(60, 64, 67, 0.15);\n",
              "      fill: #174EA6;\n",
              "    }\n",
              "\n",
              "    .colab-df-buttons div {\n",
              "      margin-bottom: 4px;\n",
              "    }\n",
              "\n",
              "    [theme=dark] .colab-df-convert {\n",
              "      background-color: #3B4455;\n",
              "      fill: #D2E3FC;\n",
              "    }\n",
              "\n",
              "    [theme=dark] .colab-df-convert:hover {\n",
              "      background-color: #434B5C;\n",
              "      box-shadow: 0px 1px 3px 1px rgba(0, 0, 0, 0.15);\n",
              "      filter: drop-shadow(0px 1px 2px rgba(0, 0, 0, 0.3));\n",
              "      fill: #FFFFFF;\n",
              "    }\n",
              "  </style>\n",
              "\n",
              "    <script>\n",
              "      const buttonEl =\n",
              "        document.querySelector('#df-85d28c38-0503-4f19-a112-3546eb3fcbca button.colab-df-convert');\n",
              "      buttonEl.style.display =\n",
              "        google.colab.kernel.accessAllowed ? 'block' : 'none';\n",
              "\n",
              "      async function convertToInteractive(key) {\n",
              "        const element = document.querySelector('#df-85d28c38-0503-4f19-a112-3546eb3fcbca');\n",
              "        const dataTable =\n",
              "          await google.colab.kernel.invokeFunction('convertToInteractive',\n",
              "                                                    [key], {});\n",
              "        if (!dataTable) return;\n",
              "\n",
              "        const docLinkHtml = 'Like what you see? Visit the ' +\n",
              "          '<a target=\"_blank\" href=https://colab.research.google.com/notebooks/data_table.ipynb>data table notebook</a>'\n",
              "          + ' to learn more about interactive tables.';\n",
              "        element.innerHTML = '';\n",
              "        dataTable['output_type'] = 'display_data';\n",
              "        await google.colab.output.renderOutput(dataTable, element);\n",
              "        const docLink = document.createElement('div');\n",
              "        docLink.innerHTML = docLinkHtml;\n",
              "        element.appendChild(docLink);\n",
              "      }\n",
              "    </script>\n",
              "  </div>\n",
              "\n",
              "\n",
              "<div id=\"df-ea62bcc5-5a07-49dc-b84c-c827e1acce3e\">\n",
              "  <button class=\"colab-df-quickchart\" onclick=\"quickchart('df-ea62bcc5-5a07-49dc-b84c-c827e1acce3e')\"\n",
              "            title=\"Suggest charts\"\n",
              "            style=\"display:none;\">\n",
              "\n",
              "<svg xmlns=\"http://www.w3.org/2000/svg\" height=\"24px\"viewBox=\"0 0 24 24\"\n",
              "     width=\"24px\">\n",
              "    <g>\n",
              "        <path d=\"M19 3H5c-1.1 0-2 .9-2 2v14c0 1.1.9 2 2 2h14c1.1 0 2-.9 2-2V5c0-1.1-.9-2-2-2zM9 17H7v-7h2v7zm4 0h-2V7h2v10zm4 0h-2v-4h2v4z\"/>\n",
              "    </g>\n",
              "</svg>\n",
              "  </button>\n",
              "\n",
              "<style>\n",
              "  .colab-df-quickchart {\n",
              "      --bg-color: #E8F0FE;\n",
              "      --fill-color: #1967D2;\n",
              "      --hover-bg-color: #E2EBFA;\n",
              "      --hover-fill-color: #174EA6;\n",
              "      --disabled-fill-color: #AAA;\n",
              "      --disabled-bg-color: #DDD;\n",
              "  }\n",
              "\n",
              "  [theme=dark] .colab-df-quickchart {\n",
              "      --bg-color: #3B4455;\n",
              "      --fill-color: #D2E3FC;\n",
              "      --hover-bg-color: #434B5C;\n",
              "      --hover-fill-color: #FFFFFF;\n",
              "      --disabled-bg-color: #3B4455;\n",
              "      --disabled-fill-color: #666;\n",
              "  }\n",
              "\n",
              "  .colab-df-quickchart {\n",
              "    background-color: var(--bg-color);\n",
              "    border: none;\n",
              "    border-radius: 50%;\n",
              "    cursor: pointer;\n",
              "    display: none;\n",
              "    fill: var(--fill-color);\n",
              "    height: 32px;\n",
              "    padding: 0;\n",
              "    width: 32px;\n",
              "  }\n",
              "\n",
              "  .colab-df-quickchart:hover {\n",
              "    background-color: var(--hover-bg-color);\n",
              "    box-shadow: 0 1px 2px rgba(60, 64, 67, 0.3), 0 1px 3px 1px rgba(60, 64, 67, 0.15);\n",
              "    fill: var(--button-hover-fill-color);\n",
              "  }\n",
              "\n",
              "  .colab-df-quickchart-complete:disabled,\n",
              "  .colab-df-quickchart-complete:disabled:hover {\n",
              "    background-color: var(--disabled-bg-color);\n",
              "    fill: var(--disabled-fill-color);\n",
              "    box-shadow: none;\n",
              "  }\n",
              "\n",
              "  .colab-df-spinner {\n",
              "    border: 2px solid var(--fill-color);\n",
              "    border-color: transparent;\n",
              "    border-bottom-color: var(--fill-color);\n",
              "    animation:\n",
              "      spin 1s steps(1) infinite;\n",
              "  }\n",
              "\n",
              "  @keyframes spin {\n",
              "    0% {\n",
              "      border-color: transparent;\n",
              "      border-bottom-color: var(--fill-color);\n",
              "      border-left-color: var(--fill-color);\n",
              "    }\n",
              "    20% {\n",
              "      border-color: transparent;\n",
              "      border-left-color: var(--fill-color);\n",
              "      border-top-color: var(--fill-color);\n",
              "    }\n",
              "    30% {\n",
              "      border-color: transparent;\n",
              "      border-left-color: var(--fill-color);\n",
              "      border-top-color: var(--fill-color);\n",
              "      border-right-color: var(--fill-color);\n",
              "    }\n",
              "    40% {\n",
              "      border-color: transparent;\n",
              "      border-right-color: var(--fill-color);\n",
              "      border-top-color: var(--fill-color);\n",
              "    }\n",
              "    60% {\n",
              "      border-color: transparent;\n",
              "      border-right-color: var(--fill-color);\n",
              "    }\n",
              "    80% {\n",
              "      border-color: transparent;\n",
              "      border-right-color: var(--fill-color);\n",
              "      border-bottom-color: var(--fill-color);\n",
              "    }\n",
              "    90% {\n",
              "      border-color: transparent;\n",
              "      border-bottom-color: var(--fill-color);\n",
              "    }\n",
              "  }\n",
              "</style>\n",
              "\n",
              "  <script>\n",
              "    async function quickchart(key) {\n",
              "      const quickchartButtonEl =\n",
              "        document.querySelector('#' + key + ' button');\n",
              "      quickchartButtonEl.disabled = true;  // To prevent multiple clicks.\n",
              "      quickchartButtonEl.classList.add('colab-df-spinner');\n",
              "      try {\n",
              "        const charts = await google.colab.kernel.invokeFunction(\n",
              "            'suggestCharts', [key], {});\n",
              "      } catch (error) {\n",
              "        console.error('Error during call to suggestCharts:', error);\n",
              "      }\n",
              "      quickchartButtonEl.classList.remove('colab-df-spinner');\n",
              "      quickchartButtonEl.classList.add('colab-df-quickchart-complete');\n",
              "    }\n",
              "    (() => {\n",
              "      let quickchartButtonEl =\n",
              "        document.querySelector('#df-ea62bcc5-5a07-49dc-b84c-c827e1acce3e button');\n",
              "      quickchartButtonEl.style.display =\n",
              "        google.colab.kernel.accessAllowed ? 'block' : 'none';\n",
              "    })();\n",
              "  </script>\n",
              "</div>\n",
              "\n",
              "    </div>\n",
              "  </div>\n"
            ],
            "application/vnd.google.colaboratory.intrinsic+json": {
              "type": "dataframe",
              "variable_name": "df",
              "summary": "{\n  \"name\": \"df\",\n  \"rows\": 1061,\n  \"fields\": [\n    {\n      \"column\": \"valuationdate\",\n      \"properties\": {\n        \"dtype\": \"category\",\n        \"num_unique_values\": 49,\n        \"samples\": [\n          \"31/03/2020\",\n          \"30/06/2017\",\n          \"31/12/2018\"\n        ],\n        \"semantic_type\": \"\",\n        \"description\": \"\"\n      }\n    },\n    {\n      \"column\": \"revenues\",\n      \"properties\": {\n        \"dtype\": \"number\",\n        \"std\": 221382.7533677901,\n        \"min\": 85.6,\n        \"max\": 2586711.9,\n        \"num_unique_values\": 1060,\n        \"samples\": [\n          140085.0,\n          181429.1,\n          34462.787\n        ],\n        \"semantic_type\": \"\",\n        \"description\": \"\"\n      }\n    },\n    {\n      \"column\": \"ebit\",\n      \"properties\": {\n        \"dtype\": \"number\",\n        \"std\": 31871.07655869133,\n        \"min\": -29982.97988,\n        \"max\": 289541.3,\n        \"num_unique_values\": 1061,\n        \"samples\": [\n          5786.05018,\n          19143.356,\n          26110.491\n        ],\n        \"semantic_type\": \"\",\n        \"description\": \"\"\n      }\n    },\n    {\n      \"column\": \"depreciation\",\n      \"properties\": {\n        \"dtype\": \"number\",\n        \"std\": 13898.135849449449,\n        \"min\": -5.69,\n        \"max\": 128993.5,\n        \"num_unique_values\": 1059,\n        \"samples\": [\n          1266.333,\n          3073.49,\n          1106.583\n        ],\n        \"semantic_type\": \"\",\n        \"description\": \"\"\n      }\n    },\n    {\n      \"column\": \"capex\",\n      \"properties\": {\n        \"dtype\": \"number\",\n        \"std\": 20250.735197325204,\n        \"min\": -694.661,\n        \"max\": 205525.7,\n        \"num_unique_values\": 1059,\n        \"samples\": [\n          5375.4,\n          4574.8,\n          2380.899\n        ],\n        \"semantic_type\": \"\",\n        \"description\": \"\"\n      }\n    },\n    {\n      \"column\": \"ncwc\",\n      \"properties\": {\n        \"dtype\": \"number\",\n        \"std\": 54636.42153952822,\n        \"min\": -118819.899,\n        \"max\": 623588.7,\n        \"num_unique_values\": 1061,\n        \"samples\": [\n          6842.249303,\n          11882.335,\n          34290.448\n        ],\n        \"semantic_type\": \"\",\n        \"description\": \"\"\n      }\n    },\n    {\n      \"column\": \"bv\",\n      \"properties\": {\n        \"dtype\": \"number\",\n        \"std\": 104349.9846115421,\n        \"min\": -15039.647,\n        \"max\": 1009025.8,\n        \"num_unique_values\": 1061,\n        \"samples\": [\n          45349.4,\n          39194.21,\n          71135.787\n        ],\n        \"semantic_type\": \"\",\n        \"description\": \"\"\n      }\n    },\n    {\n      \"column\": \"y\",\n      \"properties\": {\n        \"dtype\": \"number\",\n        \"std\": 405670.0618926025,\n        \"min\": 369.2,\n        \"max\": 4175891.774,\n        \"num_unique_values\": 1061,\n        \"samples\": [\n          122183.9,\n          157365.1432,\n          508840.3663\n        ],\n        \"semantic_type\": \"\",\n        \"description\": \"\"\n      }\n    }\n  ]\n}"
            }
          },
          "metadata": {},
          "execution_count": 15
        }
      ]
    },
    {
      "cell_type": "code",
      "source": [
        "df.shape"
      ],
      "metadata": {
        "id": "wVILilOxTPvm",
        "outputId": "fd830709-2043-4ec2-b8ae-150591cc6e62",
        "colab": {
          "base_uri": "https://localhost:8080/"
        }
      },
      "id": "wVILilOxTPvm",
      "execution_count": null,
      "outputs": [
        {
          "output_type": "execute_result",
          "data": {
            "text/plain": [
              "(1061, 8)"
            ]
          },
          "metadata": {},
          "execution_count": 16
        }
      ]
    },
    {
      "cell_type": "markdown",
      "id": "a80a3bc6",
      "metadata": {
        "id": "a80a3bc6"
      },
      "source": [
        "### Estadísticas Descriptivas y Distribuciones"
      ]
    },
    {
      "cell_type": "code",
      "execution_count": null,
      "id": "9e7e875d",
      "metadata": {
        "id": "9e7e875d"
      },
      "outputs": [],
      "source": [
        "X = df[['revenues', 'ebit', 'depreciation', 'capex', 'ncwc', 'bv']]\n",
        "y = df['y']"
      ]
    },
    {
      "cell_type": "markdown",
      "id": "9651d690",
      "metadata": {
        "id": "9651d690"
      },
      "source": [
        "### Preguntas de Reflexión (Exploración)\n",
        "1. ¿Qué tipo de problema estás intentando resolver al usar `y` como variable objetivo?\n",
        "2. ¿Notas valores atípicos (outliers) en alguna de las variables? ¿Cómo podría afectar a la regresión lineal?\n",
        "3. ¿Crees que la columna `valuationdate` podría aportar información para predecir `y`, o la excluirías del análisis?\n",
        "\n",
        "_Responde con tu razonamiento propio aquí._"
      ]
    },
    {
      "cell_type": "markdown",
      "source": [
        "PREGUNTA 1 Es un problema de regresión, predicción de un valor financiero y de valoración\n",
        "PREGUNTA 2  Probables en datos financieros, pueden afectar la regresión lineal causando estimaciones sesgadas, menor R² y predicciones menos precisas.\n",
        "PREGUNTA 3 Podría aportar información (tendencias, eventos económicos), pero se recomienda excluirla inicialmente por simplicidad y luego evaluar su impacto.\n"
      ],
      "metadata": {
        "id": "9N_BiZFIWPfe"
      },
      "id": "9N_BiZFIWPfe"
    },
    {
      "cell_type": "markdown",
      "id": "32046c34",
      "metadata": {
        "id": "32046c34"
      },
      "source": [
        "## Paso 2: Preparación y Limpieza de Datos\n",
        "\n",
        "\n",
        "1. **Manejo de valores faltantes**.\n",
        "2. **Posible eliminación** o **imputación** de outliers.\n",
        "3. **Transformaciones** (escalado, log, etc.) si son necesarias."
      ]
    },
    {
      "cell_type": "code",
      "source": [
        "df.isnull().sum()"
      ],
      "metadata": {
        "id": "vf2brq_fZEPF",
        "outputId": "17dff9ce-1cda-4cfc-e5e6-6581cb6df764",
        "colab": {
          "base_uri": "https://localhost:8080/",
          "height": 335
        }
      },
      "id": "vf2brq_fZEPF",
      "execution_count": null,
      "outputs": [
        {
          "output_type": "execute_result",
          "data": {
            "text/plain": [
              "valuationdate    0\n",
              "revenues         0\n",
              "ebit             0\n",
              "depreciation     0\n",
              "capex            0\n",
              "ncwc             0\n",
              "bv               0\n",
              "y                0\n",
              "dtype: int64"
            ],
            "text/html": [
              "<div>\n",
              "<style scoped>\n",
              "    .dataframe tbody tr th:only-of-type {\n",
              "        vertical-align: middle;\n",
              "    }\n",
              "\n",
              "    .dataframe tbody tr th {\n",
              "        vertical-align: top;\n",
              "    }\n",
              "\n",
              "    .dataframe thead th {\n",
              "        text-align: right;\n",
              "    }\n",
              "</style>\n",
              "<table border=\"1\" class=\"dataframe\">\n",
              "  <thead>\n",
              "    <tr style=\"text-align: right;\">\n",
              "      <th></th>\n",
              "      <th>0</th>\n",
              "    </tr>\n",
              "  </thead>\n",
              "  <tbody>\n",
              "    <tr>\n",
              "      <th>valuationdate</th>\n",
              "      <td>0</td>\n",
              "    </tr>\n",
              "    <tr>\n",
              "      <th>revenues</th>\n",
              "      <td>0</td>\n",
              "    </tr>\n",
              "    <tr>\n",
              "      <th>ebit</th>\n",
              "      <td>0</td>\n",
              "    </tr>\n",
              "    <tr>\n",
              "      <th>depreciation</th>\n",
              "      <td>0</td>\n",
              "    </tr>\n",
              "    <tr>\n",
              "      <th>capex</th>\n",
              "      <td>0</td>\n",
              "    </tr>\n",
              "    <tr>\n",
              "      <th>ncwc</th>\n",
              "      <td>0</td>\n",
              "    </tr>\n",
              "    <tr>\n",
              "      <th>bv</th>\n",
              "      <td>0</td>\n",
              "    </tr>\n",
              "    <tr>\n",
              "      <th>y</th>\n",
              "      <td>0</td>\n",
              "    </tr>\n",
              "  </tbody>\n",
              "</table>\n",
              "</div><br><label><b>dtype:</b> int64</label>"
            ]
          },
          "metadata": {},
          "execution_count": 49
        }
      ]
    },
    {
      "cell_type": "code",
      "source": [
        "for col in ['revenues', 'ebit', 'depreciation', 'capex', 'ncwc', 'bv']:\n",
        "    if df[col].isnull().any():\n",
        "        df[col].fillna(df[col].mean(), inplace=True)"
      ],
      "metadata": {
        "id": "6ME0m0E4ZF33"
      },
      "id": "6ME0m0E4ZF33",
      "execution_count": null,
      "outputs": []
    },
    {
      "cell_type": "code",
      "source": [
        "def remove_outliers(df, column):\n",
        "    Q1 = df[column].quantile(0.25)\n",
        "    Q3 = df[column].quantile(0.75)\n",
        "    IQR = Q3 - Q1\n",
        "    lower_bound = Q1 - 1.5 * IQR\n",
        "    upper_bound = Q3 + 1.5 * IQR\n",
        "    df_filtered = df[(df[column] >= lower_bound) & (df[column] <= upper_bound)]\n",
        "    return df_filtered"
      ],
      "metadata": {
        "id": "YVcZTOcIZI_V"
      },
      "id": "YVcZTOcIZI_V",
      "execution_count": null,
      "outputs": []
    },
    {
      "cell_type": "code",
      "source": [
        "from sklearn.preprocessing import StandardScaler\n",
        "scaler = StandardScaler()\n",
        "X_scaled = scaler.fit_transform(X)\n"
      ],
      "metadata": {
        "id": "a2sW5ctbZQIR"
      },
      "id": "a2sW5ctbZQIR",
      "execution_count": null,
      "outputs": []
    },
    {
      "cell_type": "markdown",
      "id": "2f0ef045",
      "metadata": {
        "id": "2f0ef045"
      },
      "source": [
        "### Pregunta de Reflexión (Limpieza)\n",
        "\n",
        "¿Por qué es relevante tratar valores faltantes y/o outliers **antes** de entrenar el modelo de regresión lineal?\n",
        "\n",
        "Tratar valores faltantes y outliers antes de la regresión lineal es crucial porque:\n",
        "\n",
        "Evita errores en el entrenamiento del modelo.\n",
        "Previene sesgos en las estimaciones de los coeficientes.\n",
        "Aumenta la precisión de las predicciones.\n",
        "Mejora la capacidad de generalización del modelo.\n",
        "En resumen, garantiza un modelo más fiable y preciso."
      ]
    },
    {
      "cell_type": "markdown",
      "source": [],
      "metadata": {
        "id": "IpPG9nXRZhFW"
      },
      "id": "IpPG9nXRZhFW"
    },
    {
      "cell_type": "markdown",
      "id": "38c1f6f8",
      "metadata": {
        "id": "38c1f6f8"
      },
      "source": [
        "## Paso 4: Selección de Variables e Implementación del Modelo\n",
        "\n",
        "1. **Seleccionar** cuáles columnas usarás como variables explicativas (features). Puede que uses todas o hagas una selección.\n",
        "2. **Asignar** `X`\n",
        " (features) y `y` (variable objetivo).\n",
        "3. **Dividir** en conjunto de entrenamiento (train) y conjunto de prueba (test)."
      ]
    },
    {
      "cell_type": "code",
      "source": [
        "X_train, X_test, y_train, y_test = train_test_split(X_scaled, y, test_size=0.2, random_state=42)\n"
      ],
      "metadata": {
        "id": "NItkTwrgaEe_"
      },
      "id": "NItkTwrgaEe_",
      "execution_count": null,
      "outputs": []
    },
    {
      "cell_type": "markdown",
      "id": "2958d1c2",
      "metadata": {
        "id": "2958d1c2"
      },
      "source": [
        "### Preguntas de Reflexión (Selección de Variables)\n",
        "1. ¿Por qué es importante separar los datos en train y test?\n",
        "2. ¿Qué pasaría si entrenas y evalúas en el **mismo** conjunto de datos?\n",
        "\n",
        "\n"
      ]
    },
    {
      "cell_type": "markdown",
      "source": [
        "1. Train: El modelo \"estudia\" (se entrena) con estos datos.\n",
        "Test: Es un \"examen\" con datos nuevos para ver qué tan bien aprendió y si puede generalizar (resolver problemas que no ha visto antes). 2.Si se entrena y evalúa en el mismo conjunto de datos, se corre el riesgo de sobreajuste (overfitting). El modelo podría memorizar los patrones específicos del conjunto de datos de entrenamiento y obtener una alta precisión en ese conjunto, pero no ser capaz de generalizar bien a datos nuevos.\n",
        "\n"
      ],
      "metadata": {
        "id": "qWNOdefIatu_"
      },
      "id": "qWNOdefIatu_"
    },
    {
      "cell_type": "markdown",
      "id": "3b685686",
      "metadata": {
        "id": "3b685686"
      },
      "source": [
        "\n",
        "## Paso 5: Entrenar el Modelo de Regresión Lineal\n",
        "Usaremos la clase `LinearRegression` de scikit-learn."
      ]
    },
    {
      "cell_type": "code",
      "source": [
        "model = LinearRegression()\n",
        "model.fit(X_train, y_train)\n"
      ],
      "metadata": {
        "id": "zsvzGLwHbBy-",
        "outputId": "09d40398-4a99-4a4d-aadd-5d83829d5709",
        "colab": {
          "base_uri": "https://localhost:8080/",
          "height": 80
        }
      },
      "id": "zsvzGLwHbBy-",
      "execution_count": null,
      "outputs": [
        {
          "output_type": "execute_result",
          "data": {
            "text/plain": [
              "LinearRegression()"
            ],
            "text/html": [
              "<style>#sk-container-id-1 {\n",
              "  /* Definition of color scheme common for light and dark mode */\n",
              "  --sklearn-color-text: #000;\n",
              "  --sklearn-color-text-muted: #666;\n",
              "  --sklearn-color-line: gray;\n",
              "  /* Definition of color scheme for unfitted estimators */\n",
              "  --sklearn-color-unfitted-level-0: #fff5e6;\n",
              "  --sklearn-color-unfitted-level-1: #f6e4d2;\n",
              "  --sklearn-color-unfitted-level-2: #ffe0b3;\n",
              "  --sklearn-color-unfitted-level-3: chocolate;\n",
              "  /* Definition of color scheme for fitted estimators */\n",
              "  --sklearn-color-fitted-level-0: #f0f8ff;\n",
              "  --sklearn-color-fitted-level-1: #d4ebff;\n",
              "  --sklearn-color-fitted-level-2: #b3dbfd;\n",
              "  --sklearn-color-fitted-level-3: cornflowerblue;\n",
              "\n",
              "  /* Specific color for light theme */\n",
              "  --sklearn-color-text-on-default-background: var(--sg-text-color, var(--theme-code-foreground, var(--jp-content-font-color1, black)));\n",
              "  --sklearn-color-background: var(--sg-background-color, var(--theme-background, var(--jp-layout-color0, white)));\n",
              "  --sklearn-color-border-box: var(--sg-text-color, var(--theme-code-foreground, var(--jp-content-font-color1, black)));\n",
              "  --sklearn-color-icon: #696969;\n",
              "\n",
              "  @media (prefers-color-scheme: dark) {\n",
              "    /* Redefinition of color scheme for dark theme */\n",
              "    --sklearn-color-text-on-default-background: var(--sg-text-color, var(--theme-code-foreground, var(--jp-content-font-color1, white)));\n",
              "    --sklearn-color-background: var(--sg-background-color, var(--theme-background, var(--jp-layout-color0, #111)));\n",
              "    --sklearn-color-border-box: var(--sg-text-color, var(--theme-code-foreground, var(--jp-content-font-color1, white)));\n",
              "    --sklearn-color-icon: #878787;\n",
              "  }\n",
              "}\n",
              "\n",
              "#sk-container-id-1 {\n",
              "  color: var(--sklearn-color-text);\n",
              "}\n",
              "\n",
              "#sk-container-id-1 pre {\n",
              "  padding: 0;\n",
              "}\n",
              "\n",
              "#sk-container-id-1 input.sk-hidden--visually {\n",
              "  border: 0;\n",
              "  clip: rect(1px 1px 1px 1px);\n",
              "  clip: rect(1px, 1px, 1px, 1px);\n",
              "  height: 1px;\n",
              "  margin: -1px;\n",
              "  overflow: hidden;\n",
              "  padding: 0;\n",
              "  position: absolute;\n",
              "  width: 1px;\n",
              "}\n",
              "\n",
              "#sk-container-id-1 div.sk-dashed-wrapped {\n",
              "  border: 1px dashed var(--sklearn-color-line);\n",
              "  margin: 0 0.4em 0.5em 0.4em;\n",
              "  box-sizing: border-box;\n",
              "  padding-bottom: 0.4em;\n",
              "  background-color: var(--sklearn-color-background);\n",
              "}\n",
              "\n",
              "#sk-container-id-1 div.sk-container {\n",
              "  /* jupyter's `normalize.less` sets `[hidden] { display: none; }`\n",
              "     but bootstrap.min.css set `[hidden] { display: none !important; }`\n",
              "     so we also need the `!important` here to be able to override the\n",
              "     default hidden behavior on the sphinx rendered scikit-learn.org.\n",
              "     See: https://github.com/scikit-learn/scikit-learn/issues/21755 */\n",
              "  display: inline-block !important;\n",
              "  position: relative;\n",
              "}\n",
              "\n",
              "#sk-container-id-1 div.sk-text-repr-fallback {\n",
              "  display: none;\n",
              "}\n",
              "\n",
              "div.sk-parallel-item,\n",
              "div.sk-serial,\n",
              "div.sk-item {\n",
              "  /* draw centered vertical line to link estimators */\n",
              "  background-image: linear-gradient(var(--sklearn-color-text-on-default-background), var(--sklearn-color-text-on-default-background));\n",
              "  background-size: 2px 100%;\n",
              "  background-repeat: no-repeat;\n",
              "  background-position: center center;\n",
              "}\n",
              "\n",
              "/* Parallel-specific style estimator block */\n",
              "\n",
              "#sk-container-id-1 div.sk-parallel-item::after {\n",
              "  content: \"\";\n",
              "  width: 100%;\n",
              "  border-bottom: 2px solid var(--sklearn-color-text-on-default-background);\n",
              "  flex-grow: 1;\n",
              "}\n",
              "\n",
              "#sk-container-id-1 div.sk-parallel {\n",
              "  display: flex;\n",
              "  align-items: stretch;\n",
              "  justify-content: center;\n",
              "  background-color: var(--sklearn-color-background);\n",
              "  position: relative;\n",
              "}\n",
              "\n",
              "#sk-container-id-1 div.sk-parallel-item {\n",
              "  display: flex;\n",
              "  flex-direction: column;\n",
              "}\n",
              "\n",
              "#sk-container-id-1 div.sk-parallel-item:first-child::after {\n",
              "  align-self: flex-end;\n",
              "  width: 50%;\n",
              "}\n",
              "\n",
              "#sk-container-id-1 div.sk-parallel-item:last-child::after {\n",
              "  align-self: flex-start;\n",
              "  width: 50%;\n",
              "}\n",
              "\n",
              "#sk-container-id-1 div.sk-parallel-item:only-child::after {\n",
              "  width: 0;\n",
              "}\n",
              "\n",
              "/* Serial-specific style estimator block */\n",
              "\n",
              "#sk-container-id-1 div.sk-serial {\n",
              "  display: flex;\n",
              "  flex-direction: column;\n",
              "  align-items: center;\n",
              "  background-color: var(--sklearn-color-background);\n",
              "  padding-right: 1em;\n",
              "  padding-left: 1em;\n",
              "}\n",
              "\n",
              "\n",
              "/* Toggleable style: style used for estimator/Pipeline/ColumnTransformer box that is\n",
              "clickable and can be expanded/collapsed.\n",
              "- Pipeline and ColumnTransformer use this feature and define the default style\n",
              "- Estimators will overwrite some part of the style using the `sk-estimator` class\n",
              "*/\n",
              "\n",
              "/* Pipeline and ColumnTransformer style (default) */\n",
              "\n",
              "#sk-container-id-1 div.sk-toggleable {\n",
              "  /* Default theme specific background. It is overwritten whether we have a\n",
              "  specific estimator or a Pipeline/ColumnTransformer */\n",
              "  background-color: var(--sklearn-color-background);\n",
              "}\n",
              "\n",
              "/* Toggleable label */\n",
              "#sk-container-id-1 label.sk-toggleable__label {\n",
              "  cursor: pointer;\n",
              "  display: flex;\n",
              "  width: 100%;\n",
              "  margin-bottom: 0;\n",
              "  padding: 0.5em;\n",
              "  box-sizing: border-box;\n",
              "  text-align: center;\n",
              "  align-items: start;\n",
              "  justify-content: space-between;\n",
              "  gap: 0.5em;\n",
              "}\n",
              "\n",
              "#sk-container-id-1 label.sk-toggleable__label .caption {\n",
              "  font-size: 0.6rem;\n",
              "  font-weight: lighter;\n",
              "  color: var(--sklearn-color-text-muted);\n",
              "}\n",
              "\n",
              "#sk-container-id-1 label.sk-toggleable__label-arrow:before {\n",
              "  /* Arrow on the left of the label */\n",
              "  content: \"▸\";\n",
              "  float: left;\n",
              "  margin-right: 0.25em;\n",
              "  color: var(--sklearn-color-icon);\n",
              "}\n",
              "\n",
              "#sk-container-id-1 label.sk-toggleable__label-arrow:hover:before {\n",
              "  color: var(--sklearn-color-text);\n",
              "}\n",
              "\n",
              "/* Toggleable content - dropdown */\n",
              "\n",
              "#sk-container-id-1 div.sk-toggleable__content {\n",
              "  max-height: 0;\n",
              "  max-width: 0;\n",
              "  overflow: hidden;\n",
              "  text-align: left;\n",
              "  /* unfitted */\n",
              "  background-color: var(--sklearn-color-unfitted-level-0);\n",
              "}\n",
              "\n",
              "#sk-container-id-1 div.sk-toggleable__content.fitted {\n",
              "  /* fitted */\n",
              "  background-color: var(--sklearn-color-fitted-level-0);\n",
              "}\n",
              "\n",
              "#sk-container-id-1 div.sk-toggleable__content pre {\n",
              "  margin: 0.2em;\n",
              "  border-radius: 0.25em;\n",
              "  color: var(--sklearn-color-text);\n",
              "  /* unfitted */\n",
              "  background-color: var(--sklearn-color-unfitted-level-0);\n",
              "}\n",
              "\n",
              "#sk-container-id-1 div.sk-toggleable__content.fitted pre {\n",
              "  /* unfitted */\n",
              "  background-color: var(--sklearn-color-fitted-level-0);\n",
              "}\n",
              "\n",
              "#sk-container-id-1 input.sk-toggleable__control:checked~div.sk-toggleable__content {\n",
              "  /* Expand drop-down */\n",
              "  max-height: 200px;\n",
              "  max-width: 100%;\n",
              "  overflow: auto;\n",
              "}\n",
              "\n",
              "#sk-container-id-1 input.sk-toggleable__control:checked~label.sk-toggleable__label-arrow:before {\n",
              "  content: \"▾\";\n",
              "}\n",
              "\n",
              "/* Pipeline/ColumnTransformer-specific style */\n",
              "\n",
              "#sk-container-id-1 div.sk-label input.sk-toggleable__control:checked~label.sk-toggleable__label {\n",
              "  color: var(--sklearn-color-text);\n",
              "  background-color: var(--sklearn-color-unfitted-level-2);\n",
              "}\n",
              "\n",
              "#sk-container-id-1 div.sk-label.fitted input.sk-toggleable__control:checked~label.sk-toggleable__label {\n",
              "  background-color: var(--sklearn-color-fitted-level-2);\n",
              "}\n",
              "\n",
              "/* Estimator-specific style */\n",
              "\n",
              "/* Colorize estimator box */\n",
              "#sk-container-id-1 div.sk-estimator input.sk-toggleable__control:checked~label.sk-toggleable__label {\n",
              "  /* unfitted */\n",
              "  background-color: var(--sklearn-color-unfitted-level-2);\n",
              "}\n",
              "\n",
              "#sk-container-id-1 div.sk-estimator.fitted input.sk-toggleable__control:checked~label.sk-toggleable__label {\n",
              "  /* fitted */\n",
              "  background-color: var(--sklearn-color-fitted-level-2);\n",
              "}\n",
              "\n",
              "#sk-container-id-1 div.sk-label label.sk-toggleable__label,\n",
              "#sk-container-id-1 div.sk-label label {\n",
              "  /* The background is the default theme color */\n",
              "  color: var(--sklearn-color-text-on-default-background);\n",
              "}\n",
              "\n",
              "/* On hover, darken the color of the background */\n",
              "#sk-container-id-1 div.sk-label:hover label.sk-toggleable__label {\n",
              "  color: var(--sklearn-color-text);\n",
              "  background-color: var(--sklearn-color-unfitted-level-2);\n",
              "}\n",
              "\n",
              "/* Label box, darken color on hover, fitted */\n",
              "#sk-container-id-1 div.sk-label.fitted:hover label.sk-toggleable__label.fitted {\n",
              "  color: var(--sklearn-color-text);\n",
              "  background-color: var(--sklearn-color-fitted-level-2);\n",
              "}\n",
              "\n",
              "/* Estimator label */\n",
              "\n",
              "#sk-container-id-1 div.sk-label label {\n",
              "  font-family: monospace;\n",
              "  font-weight: bold;\n",
              "  display: inline-block;\n",
              "  line-height: 1.2em;\n",
              "}\n",
              "\n",
              "#sk-container-id-1 div.sk-label-container {\n",
              "  text-align: center;\n",
              "}\n",
              "\n",
              "/* Estimator-specific */\n",
              "#sk-container-id-1 div.sk-estimator {\n",
              "  font-family: monospace;\n",
              "  border: 1px dotted var(--sklearn-color-border-box);\n",
              "  border-radius: 0.25em;\n",
              "  box-sizing: border-box;\n",
              "  margin-bottom: 0.5em;\n",
              "  /* unfitted */\n",
              "  background-color: var(--sklearn-color-unfitted-level-0);\n",
              "}\n",
              "\n",
              "#sk-container-id-1 div.sk-estimator.fitted {\n",
              "  /* fitted */\n",
              "  background-color: var(--sklearn-color-fitted-level-0);\n",
              "}\n",
              "\n",
              "/* on hover */\n",
              "#sk-container-id-1 div.sk-estimator:hover {\n",
              "  /* unfitted */\n",
              "  background-color: var(--sklearn-color-unfitted-level-2);\n",
              "}\n",
              "\n",
              "#sk-container-id-1 div.sk-estimator.fitted:hover {\n",
              "  /* fitted */\n",
              "  background-color: var(--sklearn-color-fitted-level-2);\n",
              "}\n",
              "\n",
              "/* Specification for estimator info (e.g. \"i\" and \"?\") */\n",
              "\n",
              "/* Common style for \"i\" and \"?\" */\n",
              "\n",
              ".sk-estimator-doc-link,\n",
              "a:link.sk-estimator-doc-link,\n",
              "a:visited.sk-estimator-doc-link {\n",
              "  float: right;\n",
              "  font-size: smaller;\n",
              "  line-height: 1em;\n",
              "  font-family: monospace;\n",
              "  background-color: var(--sklearn-color-background);\n",
              "  border-radius: 1em;\n",
              "  height: 1em;\n",
              "  width: 1em;\n",
              "  text-decoration: none !important;\n",
              "  margin-left: 0.5em;\n",
              "  text-align: center;\n",
              "  /* unfitted */\n",
              "  border: var(--sklearn-color-unfitted-level-1) 1pt solid;\n",
              "  color: var(--sklearn-color-unfitted-level-1);\n",
              "}\n",
              "\n",
              ".sk-estimator-doc-link.fitted,\n",
              "a:link.sk-estimator-doc-link.fitted,\n",
              "a:visited.sk-estimator-doc-link.fitted {\n",
              "  /* fitted */\n",
              "  border: var(--sklearn-color-fitted-level-1) 1pt solid;\n",
              "  color: var(--sklearn-color-fitted-level-1);\n",
              "}\n",
              "\n",
              "/* On hover */\n",
              "div.sk-estimator:hover .sk-estimator-doc-link:hover,\n",
              ".sk-estimator-doc-link:hover,\n",
              "div.sk-label-container:hover .sk-estimator-doc-link:hover,\n",
              ".sk-estimator-doc-link:hover {\n",
              "  /* unfitted */\n",
              "  background-color: var(--sklearn-color-unfitted-level-3);\n",
              "  color: var(--sklearn-color-background);\n",
              "  text-decoration: none;\n",
              "}\n",
              "\n",
              "div.sk-estimator.fitted:hover .sk-estimator-doc-link.fitted:hover,\n",
              ".sk-estimator-doc-link.fitted:hover,\n",
              "div.sk-label-container:hover .sk-estimator-doc-link.fitted:hover,\n",
              ".sk-estimator-doc-link.fitted:hover {\n",
              "  /* fitted */\n",
              "  background-color: var(--sklearn-color-fitted-level-3);\n",
              "  color: var(--sklearn-color-background);\n",
              "  text-decoration: none;\n",
              "}\n",
              "\n",
              "/* Span, style for the box shown on hovering the info icon */\n",
              ".sk-estimator-doc-link span {\n",
              "  display: none;\n",
              "  z-index: 9999;\n",
              "  position: relative;\n",
              "  font-weight: normal;\n",
              "  right: .2ex;\n",
              "  padding: .5ex;\n",
              "  margin: .5ex;\n",
              "  width: min-content;\n",
              "  min-width: 20ex;\n",
              "  max-width: 50ex;\n",
              "  color: var(--sklearn-color-text);\n",
              "  box-shadow: 2pt 2pt 4pt #999;\n",
              "  /* unfitted */\n",
              "  background: var(--sklearn-color-unfitted-level-0);\n",
              "  border: .5pt solid var(--sklearn-color-unfitted-level-3);\n",
              "}\n",
              "\n",
              ".sk-estimator-doc-link.fitted span {\n",
              "  /* fitted */\n",
              "  background: var(--sklearn-color-fitted-level-0);\n",
              "  border: var(--sklearn-color-fitted-level-3);\n",
              "}\n",
              "\n",
              ".sk-estimator-doc-link:hover span {\n",
              "  display: block;\n",
              "}\n",
              "\n",
              "/* \"?\"-specific style due to the `<a>` HTML tag */\n",
              "\n",
              "#sk-container-id-1 a.estimator_doc_link {\n",
              "  float: right;\n",
              "  font-size: 1rem;\n",
              "  line-height: 1em;\n",
              "  font-family: monospace;\n",
              "  background-color: var(--sklearn-color-background);\n",
              "  border-radius: 1rem;\n",
              "  height: 1rem;\n",
              "  width: 1rem;\n",
              "  text-decoration: none;\n",
              "  /* unfitted */\n",
              "  color: var(--sklearn-color-unfitted-level-1);\n",
              "  border: var(--sklearn-color-unfitted-level-1) 1pt solid;\n",
              "}\n",
              "\n",
              "#sk-container-id-1 a.estimator_doc_link.fitted {\n",
              "  /* fitted */\n",
              "  border: var(--sklearn-color-fitted-level-1) 1pt solid;\n",
              "  color: var(--sklearn-color-fitted-level-1);\n",
              "}\n",
              "\n",
              "/* On hover */\n",
              "#sk-container-id-1 a.estimator_doc_link:hover {\n",
              "  /* unfitted */\n",
              "  background-color: var(--sklearn-color-unfitted-level-3);\n",
              "  color: var(--sklearn-color-background);\n",
              "  text-decoration: none;\n",
              "}\n",
              "\n",
              "#sk-container-id-1 a.estimator_doc_link.fitted:hover {\n",
              "  /* fitted */\n",
              "  background-color: var(--sklearn-color-fitted-level-3);\n",
              "}\n",
              "</style><div id=\"sk-container-id-1\" class=\"sk-top-container\"><div class=\"sk-text-repr-fallback\"><pre>LinearRegression()</pre><b>In a Jupyter environment, please rerun this cell to show the HTML representation or trust the notebook. <br />On GitHub, the HTML representation is unable to render, please try loading this page with nbviewer.org.</b></div><div class=\"sk-container\" hidden><div class=\"sk-item\"><div class=\"sk-estimator fitted sk-toggleable\"><input class=\"sk-toggleable__control sk-hidden--visually\" id=\"sk-estimator-id-1\" type=\"checkbox\" checked><label for=\"sk-estimator-id-1\" class=\"sk-toggleable__label fitted sk-toggleable__label-arrow\"><div><div>LinearRegression</div></div><div><a class=\"sk-estimator-doc-link fitted\" rel=\"noreferrer\" target=\"_blank\" href=\"https://scikit-learn.org/1.6/modules/generated/sklearn.linear_model.LinearRegression.html\">?<span>Documentation for LinearRegression</span></a><span class=\"sk-estimator-doc-link fitted\">i<span>Fitted</span></span></div></label><div class=\"sk-toggleable__content fitted\"><pre>LinearRegression()</pre></div> </div></div></div></div>"
            ]
          },
          "metadata": {},
          "execution_count": 35
        }
      ]
    },
    {
      "cell_type": "markdown",
      "id": "994fd089",
      "metadata": {
        "id": "994fd089"
      },
      "source": [
        "### Interpretación de Coeficientes\n",
        "Si la lista de features es `[\"revenues\", \"ebit\", \"depreciation\", \"capex\", \"ncwc\", \"bv\"]` y tu `model.coef_` es algo como `[a, b, c, d, e, f]`, entonces:\n",
        "\n",
        "\\[ y \\approx \\beta_0 + a\\cdot revenues + b\\cdot ebit + c\\cdot depreciation + d\\cdot capex + e\\cdot ncwc + f\\cdot bv \\]\n",
        "\n",
        "Cada coeficiente indica cómo cambia `y` en promedio **por cada unidad** que se incrementa la variable (manteniendo las demás constantes)."
      ]
    },
    {
      "cell_type": "markdown",
      "id": "000bc2f3",
      "metadata": {
        "id": "000bc2f3"
      },
      "source": [
        "## Paso 6: Evaluación y Validación del Modelo\n",
        "Usaremos las siguientes métricas:\n",
        "- **MSE (Mean Squared Error)**\n",
        "- **MAE (Mean Absolute Error)**\n",
        "- **R² (Coeficiente de Determinación)**"
      ]
    },
    {
      "cell_type": "code",
      "source": [
        "y_pred = model.predict(X_test)\n",
        "\n",
        "mse = mean_squared_error(y_test, y_pred)\n",
        "r2 = r2_score(y_test, y_pred)"
      ],
      "metadata": {
        "id": "wyGjDeXVbE6m"
      },
      "id": "wyGjDeXVbE6m",
      "execution_count": null,
      "outputs": []
    },
    {
      "cell_type": "code",
      "execution_count": null,
      "id": "2b1687ca",
      "metadata": {
        "id": "2b1687ca",
        "outputId": "b3cc3d2b-b55e-449c-c4bf-baa40b2821aa",
        "colab": {
          "base_uri": "https://localhost:8080/",
          "height": 35
        }
      },
      "outputs": [
        {
          "output_type": "execute_result",
          "data": {
            "text/plain": [
              "'Mean Squared Error (MSE): 107778655517.23926\\nR-squared (R2): 0.5022850121187653'"
            ],
            "application/vnd.google.colaboratory.intrinsic+json": {
              "type": "string"
            }
          },
          "metadata": {},
          "execution_count": 50
        }
      ],
      "source": [
        "f\"Mean Squared Error (MSE): {mse}\\nR-squared (R2): {r2}\""
      ]
    },
    {
      "cell_type": "markdown",
      "id": "229849b2",
      "metadata": {
        "id": "229849b2"
      },
      "source": [
        "### Preguntas de Reflexión (Evaluación)\n",
        "1. ¿Por qué comparamos las métricas en **Entrenamiento** vs **Prueba**?\n",
        "2. ¿Qué significa si el error en entrenamiento es **muy** distinto (mucho menor o mucho mayor) que en prueba?\n",
        "3. ¿Cómo interpretar un **R²** cercano a 1, cercano a 0 o incluso negativo?\n",
        "\n",
        "_Responde con tu razonamiento._"
      ]
    },
    {
      "cell_type": "markdown",
      "source": [
        "1. Para ver si el modelo realmente aprendió o solo memorizó las respuestas (datos de entrenamiento). Queremos que funcione bien con datos nuevos (prueba), no solo con los que ya vio."
      ],
      "metadata": {
        "id": "iFrCC0S8b0kv"
      },
      "id": "iFrCC0S8b0kv"
    },
    {
      "cell_type": "markdown",
      "source": [
        "2. Error mucho menor en entrenamiento: Probablemente el modelo memorizó y no generaliza bien (sobreajuste).\n",
        "Error mucho mayor en entrenamiento: Algo raro pasa, el modelo ni siquiera aprendió bien con los datos de entrenamiento."
      ],
      "metadata": {
        "id": "ZP7uq75Sb9u-"
      },
      "id": "ZP7uq75Sb9u-"
    },
    {
      "cell_type": "markdown",
      "source": [
        "3. R² cercano a 1:El modelo explica muy bien los datos, predice con bastante precisión.\n",
        "R² cercano a 0: El modelo no sirve mucho, predice casi tan mal como si solo dijera el promedio.\n",
        "R² negativo: Predice peor que el promedio, esta mal\n"
      ],
      "metadata": {
        "id": "sSMH8HAMcCTT"
      },
      "id": "sSMH8HAMcCTT"
    },
    {
      "cell_type": "markdown",
      "id": "e6b60a43",
      "metadata": {
        "id": "e6b60a43"
      },
      "source": [
        "### Pregunta de Reflexión (Residuos)\n",
        "Si observas un patrón claro en la gráfica de residuos (por ejemplo, forma de U), ¿qué podría indicar respecto a las **asunciones** de la regresión lineal?\n",
        "\n",
        "Un patrón claro en la gráfica de residuos, como una forma de U, indica que la regresión lineal simple no es adecuada para los datos. Sugiere una relación no lineal o que faltan variables importantes en el modelo."
      ]
    },
    {
      "cell_type": "code",
      "source": [],
      "metadata": {
        "id": "QorPRbFoAgSY"
      },
      "id": "QorPRbFoAgSY",
      "execution_count": null,
      "outputs": []
    },
    {
      "cell_type": "markdown",
      "id": "f357cf0e",
      "metadata": {
        "id": "f357cf0e"
      },
      "source": [
        "## Paso 8: Interpretación y Conclusiones\n",
        "\n",
        "1. **Revisa** los coeficientes: ¿son consistentes con la lógica de negocio? (p.ej., si `ebit` aumenta, esperas que `y` aumente o disminuya?).\n",
        "2. **Observa** el nivel de error y R²: ¿el modelo es suficientemente bueno para su uso práctico?\n",
        "3. **Considera** la posibilidad de:\n",
        "   - Añadir más variables.\n",
        "   - Aplicar **regresiones polinómicas** (X², X³) si sospechas no linealidad.\n",
        "   - Usar **regularización** (Ridge, Lasso) si hay multicolinealidad o se requieren coeficientes más estables."
      ]
    },
    {
      "cell_type": "code",
      "source": [
        "(\"Coeficientes:\", model.coef_)"
      ],
      "metadata": {
        "id": "nHpSbVqNcoj3",
        "outputId": "74d967f9-34a5-46ff-c0d3-1b6158fee180",
        "colab": {
          "base_uri": "https://localhost:8080/"
        }
      },
      "id": "nHpSbVqNcoj3",
      "execution_count": null,
      "outputs": [
        {
          "output_type": "execute_result",
          "data": {
            "text/plain": [
              "('Coeficientes:',\n",
              " array([   8070.84300463,  162804.53815549,   38389.55163156,\n",
              "        -133528.99434077,   18270.67626562,  227656.0414013 ]))"
            ]
          },
          "metadata": {},
          "execution_count": 46
        }
      ]
    },
    {
      "cell_type": "code",
      "source": [
        "feature_names = ['revenues', 'ebit', 'depreciation', 'capex', 'ncwc', 'bv']\n",
        "for i, coef in enumerate(model.coef_):\n",
        "   f\"{feature_names[i]}: {coef}\""
      ],
      "metadata": {
        "id": "m0YM4rIHcpxO"
      },
      "id": "m0YM4rIHcpxO",
      "execution_count": null,
      "outputs": []
    },
    {
      "cell_type": "code",
      "source": [
        "f\"Mean Squared Error (MSE): {mse}\"\n",
        "f\"R-squared (R2): {r2}\""
      ],
      "metadata": {
        "id": "J2OZ43WEct7W",
        "outputId": "4c6ee2c6-5942-44ba-dcde-8987b84e266a",
        "colab": {
          "base_uri": "https://localhost:8080/",
          "height": 35
        }
      },
      "id": "J2OZ43WEct7W",
      "execution_count": null,
      "outputs": [
        {
          "output_type": "execute_result",
          "data": {
            "text/plain": [
              "'R-squared (R2): 0.5022850121187653'"
            ],
            "application/vnd.google.colaboratory.intrinsic+json": {
              "type": "string"
            }
          },
          "metadata": {},
          "execution_count": 48
        }
      ]
    },
    {
      "cell_type": "markdown",
      "id": "48d0593a",
      "metadata": {
        "id": "48d0593a"
      },
      "source": [
        "### Preguntas de Reflexión Final\n",
        "1. ¿Crees que la Regresión Lineal Simple/Múltiple **captura adecuadamente** las relaciones en tus datos?\n",
        "2. ¿Qué otras técnicas (ej. árboles de decisión, bosques aleatorios, etc.) considerarías para comparar resultados?\n",
        "3. ¿El dataset es suficientemente grande y variado para hacer conclusiones robustas?\n",
        "\n",
        "_Responde con tu razonamiento._"
      ]
    },
    {
      "cell_type": "markdown",
      "source": [],
      "metadata": {
        "id": "48gtskaedJQ3"
      },
      "id": "48gtskaedJQ3"
    },
    {
      "cell_type": "markdown",
      "source": [
        "1. No estamos seguros si la regresión lineal es la mejor opción. Podría haber relaciones no lineales en los datos.\n"
      ],
      "metadata": {
        "id": "lumlL_VTdHYn"
      },
      "id": "lumlL_VTdHYn"
    },
    {
      "cell_type": "markdown",
      "source": [
        "2. Bosques Aleatorios (Random Forests): Combinan múltiples árboles de decisión para mejorar la precisión y la robustez.\n",
        "Support Vector Machines (SVM): Útiles para problemas de clasificación y regresión, especialmente con datos de alta dimensionalidad.\n",
        "Árboles de Decisión: Son flexibles y pueden capturar relaciones no lineales, además de proporcionar interpretabilidad.\n"
      ],
      "metadata": {
        "id": "rUIQkZqydPvG"
      },
      "id": "rUIQkZqydPvG"
    },
    {
      "cell_type": "markdown",
      "source": [
        "3. El dataset no es enorme, así que las conclusiones podrían no ser definitivas. Idealmente, necesitaríamos más datos y más variedad para estar seguros.\n"
      ],
      "metadata": {
        "id": "bcJ9Qz1rdbZu"
      },
      "id": "bcJ9Qz1rdbZu"
    },
    {
      "cell_type": "markdown",
      "id": "2d97d703",
      "metadata": {
        "id": "2d97d703"
      },
      "source": [
        "## Resumen\n",
        "En este Notebook hemos:\n",
        "1. **Explorado** los datos (EDA) y detectado posibles outliers.\n",
        "2. **Limpieza** de datos y transformaciones opcionales.\n",
        "3. **Seleccionado** variables y dividido en train/test.\n",
        "4. **Entrenado** un modelo de Regresión Lineal.\n",
        "5. **Evaluado** con MSE, MAE, R² y analizado residuos.\n",
        "6. **Reflexionado** sobre los coeficientes y conclusiones.\n",
        "\n",
        "¡Has completado un **análisis de regresión lineal** de forma integral! Para afianzar, puedes:\n",
        "- Ajustar parámetros (aunque la regresión lineal simple en sklearn no tiene muchos).\n",
        "- Comparar con otros modelos.\n",
        "- Realizar validación cruzada en lugar de una simple división train/test.\n",
        "\n",
        "¡Éxitos en tu proyecto de análisis!"
      ]
    }
  ],
  "metadata": {
    "kernelspec": {
      "display_name": "Python 3",
      "language": "python",
      "name": "python3"
    },
    "language_info": {
      "name": "python",
      "version": "3.9"
    },
    "colab": {
      "provenance": []
    }
  },
  "nbformat": 4,
  "nbformat_minor": 5
}